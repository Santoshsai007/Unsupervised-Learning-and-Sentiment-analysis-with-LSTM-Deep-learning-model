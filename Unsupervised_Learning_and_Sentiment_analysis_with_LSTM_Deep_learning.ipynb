{
  "nbformat": 4,
  "nbformat_minor": 0,
  "metadata": {
    "colab": {
      "name": "Unsupervised Learning and  Sentiment analysis with LSTM Deep learning.ipynb",
      "provenance": []
    },
    "kernelspec": {
      "name": "python3",
      "display_name": "Python 3"
    },
    "language_info": {
      "name": "python"
    }
  },
  "cells": [
    {
      "cell_type": "markdown",
      "source": [
        "## Problem Statement"
      ],
      "metadata": {
        "id": "PXonpUR6KJ4g"
      }
    },
    {
      "cell_type": "markdown",
      "source": [
        "### Unsupervised Learning"
      ],
      "metadata": {
        "id": "06365ujMKet4"
      }
    },
    {
      "cell_type": "markdown",
      "source": [
        "Given the ‘credit_card’ dataset, below is the data definition\n",
        "\n",
        "1) CUSTID: Identification of Credit Card holder (Categorical)\\\n",
        "2) BALANCE: Balance amount left in their account to make purchases\\\n",
        "3) BALANCEFREQUENCY: How frequently the Balance is updated, score between 0 and 1 (1 = \n",
        "frequently updated, 0 = not frequently updated)\\\n",
        "4) PURCHASES: Amount of purchases made from account\\\n",
        "5) ONEOFFPURCHASES: Maximum purchase amount done in one-go\\\n",
        "6) INSTALLMENTSPURCHASES: Amount of purchase done in installment\\\n",
        "7) CASHADVANCE: Cash in advance given by the user\\\n",
        "8) PURCHASESFREQUENCY: How frequently the Purchases are being made, score between 0 and 1 \n",
        "(1 = frequently purchased, 0 = not frequently purchased)\\\n",
        "9) ONEOFFPURCHASESFREQUENCY: How frequently Purchases are happening in one-go (1 = \n",
        "frequently purchased, 0 = not frequently purchased)\\\n",
        "10) PURCHASESINSTALLMENTSFREQUENCY: How frequently purchases in installments are being \n",
        "done (1 = frequently done, 0 = not frequently done)\\\n",
        "11) CASHADVANCEFREQUENCY: How frequently the cash in advance being paid\\\n",
        "12) CASHADVANCETRX: Number of Transactions made with \"Cash in Advanced\"\\\n",
        "13) PURCHASESTRX: Number of purchase transactions made\\\n",
        "14) CREDITLIMIT: Limit of Credit Card for user\\\n",
        "15) PAYMENTS: Amount of Payment done by user\\\n",
        "16) MINIMUM_PAYMENTS: Minimum amount of payments made by user\\\n",
        "17) PRCFULLPAYMENT: Percent of full payment paid by use\\\n",
        "18) TENURE: Tenure of credit card service for user"
      ],
      "metadata": {
        "id": "yb1Ldd6rKocy"
      }
    },
    {
      "cell_type": "code",
      "execution_count": null,
      "metadata": {
        "id": "OxQxRL3w_rWO"
      },
      "outputs": [],
      "source": [
        "#Import basic libraries to start work\n",
        "import pandas as pd\n",
        "import numpy as np\n",
        "import matplotlib.pyplot as plt\n",
        "import seaborn as sns\n",
        "%matplotlib inline"
      ]
    },
    {
      "cell_type": "code",
      "source": [
        "#Read the Data\n",
        "df=pd.read_csv(\"/content/drive/MyDrive/credit_card.csv\")"
      ],
      "metadata": {
        "id": "e2VtVb1iA4Fd"
      },
      "execution_count": null,
      "outputs": []
    },
    {
      "cell_type": "code",
      "source": [
        "df.head()"
      ],
      "metadata": {
        "colab": {
          "base_uri": "https://localhost:8080/",
          "height": 270
        },
        "id": "IDIEced-BR7C",
        "outputId": "583d9b51-084c-4bf2-9975-b01deabda478"
      },
      "execution_count": null,
      "outputs": [
        {
          "output_type": "execute_result",
          "data": {
            "text/html": [
              "\n",
              "  <div id=\"df-b5e5d4c5-15e2-44f2-8003-ae95bbf0a709\">\n",
              "    <div class=\"colab-df-container\">\n",
              "      <div>\n",
              "<style scoped>\n",
              "    .dataframe tbody tr th:only-of-type {\n",
              "        vertical-align: middle;\n",
              "    }\n",
              "\n",
              "    .dataframe tbody tr th {\n",
              "        vertical-align: top;\n",
              "    }\n",
              "\n",
              "    .dataframe thead th {\n",
              "        text-align: right;\n",
              "    }\n",
              "</style>\n",
              "<table border=\"1\" class=\"dataframe\">\n",
              "  <thead>\n",
              "    <tr style=\"text-align: right;\">\n",
              "      <th></th>\n",
              "      <th>CUST_ID</th>\n",
              "      <th>BALANCE</th>\n",
              "      <th>BALANCE_FREQUENCY</th>\n",
              "      <th>PURCHASES</th>\n",
              "      <th>ONEOFF_PURCHASES</th>\n",
              "      <th>INSTALLMENTS_PURCHASES</th>\n",
              "      <th>CASH_ADVANCE</th>\n",
              "      <th>PURCHASES_FREQUENCY</th>\n",
              "      <th>ONEOFF_PURCHASES_FREQUENCY</th>\n",
              "      <th>PURCHASES_INSTALLMENTS_FREQUENCY</th>\n",
              "      <th>CASH_ADVANCE_FREQUENCY</th>\n",
              "      <th>CASH_ADVANCE_TRX</th>\n",
              "      <th>PURCHASES_TRX</th>\n",
              "      <th>CREDIT_LIMIT</th>\n",
              "      <th>PAYMENTS</th>\n",
              "      <th>MINIMUM_PAYMENTS</th>\n",
              "      <th>PRC_FULL_PAYMENT</th>\n",
              "      <th>TENURE</th>\n",
              "    </tr>\n",
              "  </thead>\n",
              "  <tbody>\n",
              "    <tr>\n",
              "      <th>0</th>\n",
              "      <td>C10001</td>\n",
              "      <td>40.900749</td>\n",
              "      <td>0.818182</td>\n",
              "      <td>95.40</td>\n",
              "      <td>0.00</td>\n",
              "      <td>95.4</td>\n",
              "      <td>0.000000</td>\n",
              "      <td>0.166667</td>\n",
              "      <td>0.000000</td>\n",
              "      <td>0.083333</td>\n",
              "      <td>0.000000</td>\n",
              "      <td>0</td>\n",
              "      <td>2</td>\n",
              "      <td>1000.0</td>\n",
              "      <td>201.802084</td>\n",
              "      <td>139.509787</td>\n",
              "      <td>0.000000</td>\n",
              "      <td>12</td>\n",
              "    </tr>\n",
              "    <tr>\n",
              "      <th>1</th>\n",
              "      <td>C10002</td>\n",
              "      <td>3202.467416</td>\n",
              "      <td>0.909091</td>\n",
              "      <td>0.00</td>\n",
              "      <td>0.00</td>\n",
              "      <td>0.0</td>\n",
              "      <td>6442.945483</td>\n",
              "      <td>0.000000</td>\n",
              "      <td>0.000000</td>\n",
              "      <td>0.000000</td>\n",
              "      <td>0.250000</td>\n",
              "      <td>4</td>\n",
              "      <td>0</td>\n",
              "      <td>7000.0</td>\n",
              "      <td>4103.032597</td>\n",
              "      <td>1072.340217</td>\n",
              "      <td>0.222222</td>\n",
              "      <td>12</td>\n",
              "    </tr>\n",
              "    <tr>\n",
              "      <th>2</th>\n",
              "      <td>C10003</td>\n",
              "      <td>2495.148862</td>\n",
              "      <td>1.000000</td>\n",
              "      <td>773.17</td>\n",
              "      <td>773.17</td>\n",
              "      <td>0.0</td>\n",
              "      <td>0.000000</td>\n",
              "      <td>1.000000</td>\n",
              "      <td>1.000000</td>\n",
              "      <td>0.000000</td>\n",
              "      <td>0.000000</td>\n",
              "      <td>0</td>\n",
              "      <td>12</td>\n",
              "      <td>7500.0</td>\n",
              "      <td>622.066742</td>\n",
              "      <td>627.284787</td>\n",
              "      <td>0.000000</td>\n",
              "      <td>12</td>\n",
              "    </tr>\n",
              "    <tr>\n",
              "      <th>3</th>\n",
              "      <td>C10004</td>\n",
              "      <td>1666.670542</td>\n",
              "      <td>0.636364</td>\n",
              "      <td>1499.00</td>\n",
              "      <td>1499.00</td>\n",
              "      <td>0.0</td>\n",
              "      <td>205.788017</td>\n",
              "      <td>0.083333</td>\n",
              "      <td>0.083333</td>\n",
              "      <td>0.000000</td>\n",
              "      <td>0.083333</td>\n",
              "      <td>1</td>\n",
              "      <td>1</td>\n",
              "      <td>7500.0</td>\n",
              "      <td>0.000000</td>\n",
              "      <td>NaN</td>\n",
              "      <td>0.000000</td>\n",
              "      <td>12</td>\n",
              "    </tr>\n",
              "    <tr>\n",
              "      <th>4</th>\n",
              "      <td>C10005</td>\n",
              "      <td>817.714335</td>\n",
              "      <td>1.000000</td>\n",
              "      <td>16.00</td>\n",
              "      <td>16.00</td>\n",
              "      <td>0.0</td>\n",
              "      <td>0.000000</td>\n",
              "      <td>0.083333</td>\n",
              "      <td>0.083333</td>\n",
              "      <td>0.000000</td>\n",
              "      <td>0.000000</td>\n",
              "      <td>0</td>\n",
              "      <td>1</td>\n",
              "      <td>1200.0</td>\n",
              "      <td>678.334763</td>\n",
              "      <td>244.791237</td>\n",
              "      <td>0.000000</td>\n",
              "      <td>12</td>\n",
              "    </tr>\n",
              "  </tbody>\n",
              "</table>\n",
              "</div>\n",
              "      <button class=\"colab-df-convert\" onclick=\"convertToInteractive('df-b5e5d4c5-15e2-44f2-8003-ae95bbf0a709')\"\n",
              "              title=\"Convert this dataframe to an interactive table.\"\n",
              "              style=\"display:none;\">\n",
              "        \n",
              "  <svg xmlns=\"http://www.w3.org/2000/svg\" height=\"24px\"viewBox=\"0 0 24 24\"\n",
              "       width=\"24px\">\n",
              "    <path d=\"M0 0h24v24H0V0z\" fill=\"none\"/>\n",
              "    <path d=\"M18.56 5.44l.94 2.06.94-2.06 2.06-.94-2.06-.94-.94-2.06-.94 2.06-2.06.94zm-11 1L8.5 8.5l.94-2.06 2.06-.94-2.06-.94L8.5 2.5l-.94 2.06-2.06.94zm10 10l.94 2.06.94-2.06 2.06-.94-2.06-.94-.94-2.06-.94 2.06-2.06.94z\"/><path d=\"M17.41 7.96l-1.37-1.37c-.4-.4-.92-.59-1.43-.59-.52 0-1.04.2-1.43.59L10.3 9.45l-7.72 7.72c-.78.78-.78 2.05 0 2.83L4 21.41c.39.39.9.59 1.41.59.51 0 1.02-.2 1.41-.59l7.78-7.78 2.81-2.81c.8-.78.8-2.07 0-2.86zM5.41 20L4 18.59l7.72-7.72 1.47 1.35L5.41 20z\"/>\n",
              "  </svg>\n",
              "      </button>\n",
              "      \n",
              "  <style>\n",
              "    .colab-df-container {\n",
              "      display:flex;\n",
              "      flex-wrap:wrap;\n",
              "      gap: 12px;\n",
              "    }\n",
              "\n",
              "    .colab-df-convert {\n",
              "      background-color: #E8F0FE;\n",
              "      border: none;\n",
              "      border-radius: 50%;\n",
              "      cursor: pointer;\n",
              "      display: none;\n",
              "      fill: #1967D2;\n",
              "      height: 32px;\n",
              "      padding: 0 0 0 0;\n",
              "      width: 32px;\n",
              "    }\n",
              "\n",
              "    .colab-df-convert:hover {\n",
              "      background-color: #E2EBFA;\n",
              "      box-shadow: 0px 1px 2px rgba(60, 64, 67, 0.3), 0px 1px 3px 1px rgba(60, 64, 67, 0.15);\n",
              "      fill: #174EA6;\n",
              "    }\n",
              "\n",
              "    [theme=dark] .colab-df-convert {\n",
              "      background-color: #3B4455;\n",
              "      fill: #D2E3FC;\n",
              "    }\n",
              "\n",
              "    [theme=dark] .colab-df-convert:hover {\n",
              "      background-color: #434B5C;\n",
              "      box-shadow: 0px 1px 3px 1px rgba(0, 0, 0, 0.15);\n",
              "      filter: drop-shadow(0px 1px 2px rgba(0, 0, 0, 0.3));\n",
              "      fill: #FFFFFF;\n",
              "    }\n",
              "  </style>\n",
              "\n",
              "      <script>\n",
              "        const buttonEl =\n",
              "          document.querySelector('#df-b5e5d4c5-15e2-44f2-8003-ae95bbf0a709 button.colab-df-convert');\n",
              "        buttonEl.style.display =\n",
              "          google.colab.kernel.accessAllowed ? 'block' : 'none';\n",
              "\n",
              "        async function convertToInteractive(key) {\n",
              "          const element = document.querySelector('#df-b5e5d4c5-15e2-44f2-8003-ae95bbf0a709');\n",
              "          const dataTable =\n",
              "            await google.colab.kernel.invokeFunction('convertToInteractive',\n",
              "                                                     [key], {});\n",
              "          if (!dataTable) return;\n",
              "\n",
              "          const docLinkHtml = 'Like what you see? Visit the ' +\n",
              "            '<a target=\"_blank\" href=https://colab.research.google.com/notebooks/data_table.ipynb>data table notebook</a>'\n",
              "            + ' to learn more about interactive tables.';\n",
              "          element.innerHTML = '';\n",
              "          dataTable['output_type'] = 'display_data';\n",
              "          await google.colab.output.renderOutput(dataTable, element);\n",
              "          const docLink = document.createElement('div');\n",
              "          docLink.innerHTML = docLinkHtml;\n",
              "          element.appendChild(docLink);\n",
              "        }\n",
              "      </script>\n",
              "    </div>\n",
              "  </div>\n",
              "  "
            ],
            "text/plain": [
              "  CUST_ID      BALANCE  ...  PRC_FULL_PAYMENT  TENURE\n",
              "0  C10001    40.900749  ...          0.000000      12\n",
              "1  C10002  3202.467416  ...          0.222222      12\n",
              "2  C10003  2495.148862  ...          0.000000      12\n",
              "3  C10004  1666.670542  ...          0.000000      12\n",
              "4  C10005   817.714335  ...          0.000000      12\n",
              "\n",
              "[5 rows x 18 columns]"
            ]
          },
          "metadata": {},
          "execution_count": 3
        }
      ]
    },
    {
      "cell_type": "code",
      "source": [
        "df.tail()"
      ],
      "metadata": {
        "colab": {
          "base_uri": "https://localhost:8080/",
          "height": 270
        },
        "id": "m9zbGhTGB-bl",
        "outputId": "dbf3bd25-53f0-41a5-b895-62b8962e152b"
      },
      "execution_count": null,
      "outputs": [
        {
          "output_type": "execute_result",
          "data": {
            "text/html": [
              "\n",
              "  <div id=\"df-70c3e799-9dfc-41bd-9250-90f3f7a34c32\">\n",
              "    <div class=\"colab-df-container\">\n",
              "      <div>\n",
              "<style scoped>\n",
              "    .dataframe tbody tr th:only-of-type {\n",
              "        vertical-align: middle;\n",
              "    }\n",
              "\n",
              "    .dataframe tbody tr th {\n",
              "        vertical-align: top;\n",
              "    }\n",
              "\n",
              "    .dataframe thead th {\n",
              "        text-align: right;\n",
              "    }\n",
              "</style>\n",
              "<table border=\"1\" class=\"dataframe\">\n",
              "  <thead>\n",
              "    <tr style=\"text-align: right;\">\n",
              "      <th></th>\n",
              "      <th>CUST_ID</th>\n",
              "      <th>BALANCE</th>\n",
              "      <th>BALANCE_FREQUENCY</th>\n",
              "      <th>PURCHASES</th>\n",
              "      <th>ONEOFF_PURCHASES</th>\n",
              "      <th>INSTALLMENTS_PURCHASES</th>\n",
              "      <th>CASH_ADVANCE</th>\n",
              "      <th>PURCHASES_FREQUENCY</th>\n",
              "      <th>ONEOFF_PURCHASES_FREQUENCY</th>\n",
              "      <th>PURCHASES_INSTALLMENTS_FREQUENCY</th>\n",
              "      <th>CASH_ADVANCE_FREQUENCY</th>\n",
              "      <th>CASH_ADVANCE_TRX</th>\n",
              "      <th>PURCHASES_TRX</th>\n",
              "      <th>CREDIT_LIMIT</th>\n",
              "      <th>PAYMENTS</th>\n",
              "      <th>MINIMUM_PAYMENTS</th>\n",
              "      <th>PRC_FULL_PAYMENT</th>\n",
              "      <th>TENURE</th>\n",
              "    </tr>\n",
              "  </thead>\n",
              "  <tbody>\n",
              "    <tr>\n",
              "      <th>8945</th>\n",
              "      <td>C19186</td>\n",
              "      <td>28.493517</td>\n",
              "      <td>1.000000</td>\n",
              "      <td>291.12</td>\n",
              "      <td>0.00</td>\n",
              "      <td>291.12</td>\n",
              "      <td>0.000000</td>\n",
              "      <td>1.000000</td>\n",
              "      <td>0.000000</td>\n",
              "      <td>0.833333</td>\n",
              "      <td>0.000000</td>\n",
              "      <td>0</td>\n",
              "      <td>6</td>\n",
              "      <td>1000.0</td>\n",
              "      <td>325.594462</td>\n",
              "      <td>48.886365</td>\n",
              "      <td>0.50</td>\n",
              "      <td>6</td>\n",
              "    </tr>\n",
              "    <tr>\n",
              "      <th>8946</th>\n",
              "      <td>C19187</td>\n",
              "      <td>19.183215</td>\n",
              "      <td>1.000000</td>\n",
              "      <td>300.00</td>\n",
              "      <td>0.00</td>\n",
              "      <td>300.00</td>\n",
              "      <td>0.000000</td>\n",
              "      <td>1.000000</td>\n",
              "      <td>0.000000</td>\n",
              "      <td>0.833333</td>\n",
              "      <td>0.000000</td>\n",
              "      <td>0</td>\n",
              "      <td>6</td>\n",
              "      <td>1000.0</td>\n",
              "      <td>275.861322</td>\n",
              "      <td>NaN</td>\n",
              "      <td>0.00</td>\n",
              "      <td>6</td>\n",
              "    </tr>\n",
              "    <tr>\n",
              "      <th>8947</th>\n",
              "      <td>C19188</td>\n",
              "      <td>23.398673</td>\n",
              "      <td>0.833333</td>\n",
              "      <td>144.40</td>\n",
              "      <td>0.00</td>\n",
              "      <td>144.40</td>\n",
              "      <td>0.000000</td>\n",
              "      <td>0.833333</td>\n",
              "      <td>0.000000</td>\n",
              "      <td>0.666667</td>\n",
              "      <td>0.000000</td>\n",
              "      <td>0</td>\n",
              "      <td>5</td>\n",
              "      <td>1000.0</td>\n",
              "      <td>81.270775</td>\n",
              "      <td>82.418369</td>\n",
              "      <td>0.25</td>\n",
              "      <td>6</td>\n",
              "    </tr>\n",
              "    <tr>\n",
              "      <th>8948</th>\n",
              "      <td>C19189</td>\n",
              "      <td>13.457564</td>\n",
              "      <td>0.833333</td>\n",
              "      <td>0.00</td>\n",
              "      <td>0.00</td>\n",
              "      <td>0.00</td>\n",
              "      <td>36.558778</td>\n",
              "      <td>0.000000</td>\n",
              "      <td>0.000000</td>\n",
              "      <td>0.000000</td>\n",
              "      <td>0.166667</td>\n",
              "      <td>2</td>\n",
              "      <td>0</td>\n",
              "      <td>500.0</td>\n",
              "      <td>52.549959</td>\n",
              "      <td>55.755628</td>\n",
              "      <td>0.25</td>\n",
              "      <td>6</td>\n",
              "    </tr>\n",
              "    <tr>\n",
              "      <th>8949</th>\n",
              "      <td>C19190</td>\n",
              "      <td>372.708075</td>\n",
              "      <td>0.666667</td>\n",
              "      <td>1093.25</td>\n",
              "      <td>1093.25</td>\n",
              "      <td>0.00</td>\n",
              "      <td>127.040008</td>\n",
              "      <td>0.666667</td>\n",
              "      <td>0.666667</td>\n",
              "      <td>0.000000</td>\n",
              "      <td>0.333333</td>\n",
              "      <td>2</td>\n",
              "      <td>23</td>\n",
              "      <td>1200.0</td>\n",
              "      <td>63.165404</td>\n",
              "      <td>88.288956</td>\n",
              "      <td>0.00</td>\n",
              "      <td>6</td>\n",
              "    </tr>\n",
              "  </tbody>\n",
              "</table>\n",
              "</div>\n",
              "      <button class=\"colab-df-convert\" onclick=\"convertToInteractive('df-70c3e799-9dfc-41bd-9250-90f3f7a34c32')\"\n",
              "              title=\"Convert this dataframe to an interactive table.\"\n",
              "              style=\"display:none;\">\n",
              "        \n",
              "  <svg xmlns=\"http://www.w3.org/2000/svg\" height=\"24px\"viewBox=\"0 0 24 24\"\n",
              "       width=\"24px\">\n",
              "    <path d=\"M0 0h24v24H0V0z\" fill=\"none\"/>\n",
              "    <path d=\"M18.56 5.44l.94 2.06.94-2.06 2.06-.94-2.06-.94-.94-2.06-.94 2.06-2.06.94zm-11 1L8.5 8.5l.94-2.06 2.06-.94-2.06-.94L8.5 2.5l-.94 2.06-2.06.94zm10 10l.94 2.06.94-2.06 2.06-.94-2.06-.94-.94-2.06-.94 2.06-2.06.94z\"/><path d=\"M17.41 7.96l-1.37-1.37c-.4-.4-.92-.59-1.43-.59-.52 0-1.04.2-1.43.59L10.3 9.45l-7.72 7.72c-.78.78-.78 2.05 0 2.83L4 21.41c.39.39.9.59 1.41.59.51 0 1.02-.2 1.41-.59l7.78-7.78 2.81-2.81c.8-.78.8-2.07 0-2.86zM5.41 20L4 18.59l7.72-7.72 1.47 1.35L5.41 20z\"/>\n",
              "  </svg>\n",
              "      </button>\n",
              "      \n",
              "  <style>\n",
              "    .colab-df-container {\n",
              "      display:flex;\n",
              "      flex-wrap:wrap;\n",
              "      gap: 12px;\n",
              "    }\n",
              "\n",
              "    .colab-df-convert {\n",
              "      background-color: #E8F0FE;\n",
              "      border: none;\n",
              "      border-radius: 50%;\n",
              "      cursor: pointer;\n",
              "      display: none;\n",
              "      fill: #1967D2;\n",
              "      height: 32px;\n",
              "      padding: 0 0 0 0;\n",
              "      width: 32px;\n",
              "    }\n",
              "\n",
              "    .colab-df-convert:hover {\n",
              "      background-color: #E2EBFA;\n",
              "      box-shadow: 0px 1px 2px rgba(60, 64, 67, 0.3), 0px 1px 3px 1px rgba(60, 64, 67, 0.15);\n",
              "      fill: #174EA6;\n",
              "    }\n",
              "\n",
              "    [theme=dark] .colab-df-convert {\n",
              "      background-color: #3B4455;\n",
              "      fill: #D2E3FC;\n",
              "    }\n",
              "\n",
              "    [theme=dark] .colab-df-convert:hover {\n",
              "      background-color: #434B5C;\n",
              "      box-shadow: 0px 1px 3px 1px rgba(0, 0, 0, 0.15);\n",
              "      filter: drop-shadow(0px 1px 2px rgba(0, 0, 0, 0.3));\n",
              "      fill: #FFFFFF;\n",
              "    }\n",
              "  </style>\n",
              "\n",
              "      <script>\n",
              "        const buttonEl =\n",
              "          document.querySelector('#df-70c3e799-9dfc-41bd-9250-90f3f7a34c32 button.colab-df-convert');\n",
              "        buttonEl.style.display =\n",
              "          google.colab.kernel.accessAllowed ? 'block' : 'none';\n",
              "\n",
              "        async function convertToInteractive(key) {\n",
              "          const element = document.querySelector('#df-70c3e799-9dfc-41bd-9250-90f3f7a34c32');\n",
              "          const dataTable =\n",
              "            await google.colab.kernel.invokeFunction('convertToInteractive',\n",
              "                                                     [key], {});\n",
              "          if (!dataTable) return;\n",
              "\n",
              "          const docLinkHtml = 'Like what you see? Visit the ' +\n",
              "            '<a target=\"_blank\" href=https://colab.research.google.com/notebooks/data_table.ipynb>data table notebook</a>'\n",
              "            + ' to learn more about interactive tables.';\n",
              "          element.innerHTML = '';\n",
              "          dataTable['output_type'] = 'display_data';\n",
              "          await google.colab.output.renderOutput(dataTable, element);\n",
              "          const docLink = document.createElement('div');\n",
              "          docLink.innerHTML = docLinkHtml;\n",
              "          element.appendChild(docLink);\n",
              "        }\n",
              "      </script>\n",
              "    </div>\n",
              "  </div>\n",
              "  "
            ],
            "text/plain": [
              "     CUST_ID     BALANCE  ...  PRC_FULL_PAYMENT  TENURE\n",
              "8945  C19186   28.493517  ...              0.50       6\n",
              "8946  C19187   19.183215  ...              0.00       6\n",
              "8947  C19188   23.398673  ...              0.25       6\n",
              "8948  C19189   13.457564  ...              0.25       6\n",
              "8949  C19190  372.708075  ...              0.00       6\n",
              "\n",
              "[5 rows x 18 columns]"
            ]
          },
          "metadata": {},
          "execution_count": 6
        }
      ]
    },
    {
      "cell_type": "code",
      "source": [
        "df.shape"
      ],
      "metadata": {
        "colab": {
          "base_uri": "https://localhost:8080/"
        },
        "id": "9cPRpcsGBVWJ",
        "outputId": "feb166b6-ae8f-4e11-f051-d037ced2963b"
      },
      "execution_count": null,
      "outputs": [
        {
          "output_type": "execute_result",
          "data": {
            "text/plain": [
              "(8950, 18)"
            ]
          },
          "metadata": {},
          "execution_count": 4
        }
      ]
    },
    {
      "cell_type": "code",
      "source": [
        "df.info()"
      ],
      "metadata": {
        "colab": {
          "base_uri": "https://localhost:8080/"
        },
        "id": "V_38Iw4FBd3s",
        "outputId": "3302d17f-441e-451e-883b-aafd6b80544f"
      },
      "execution_count": null,
      "outputs": [
        {
          "output_type": "stream",
          "name": "stdout",
          "text": [
            "<class 'pandas.core.frame.DataFrame'>\n",
            "RangeIndex: 8950 entries, 0 to 8949\n",
            "Data columns (total 18 columns):\n",
            " #   Column                            Non-Null Count  Dtype  \n",
            "---  ------                            --------------  -----  \n",
            " 0   CUST_ID                           8950 non-null   object \n",
            " 1   BALANCE                           8950 non-null   float64\n",
            " 2   BALANCE_FREQUENCY                 8950 non-null   float64\n",
            " 3   PURCHASES                         8950 non-null   float64\n",
            " 4   ONEOFF_PURCHASES                  8950 non-null   float64\n",
            " 5   INSTALLMENTS_PURCHASES            8950 non-null   float64\n",
            " 6   CASH_ADVANCE                      8950 non-null   float64\n",
            " 7   PURCHASES_FREQUENCY               8950 non-null   float64\n",
            " 8   ONEOFF_PURCHASES_FREQUENCY        8950 non-null   float64\n",
            " 9   PURCHASES_INSTALLMENTS_FREQUENCY  8950 non-null   float64\n",
            " 10  CASH_ADVANCE_FREQUENCY            8950 non-null   float64\n",
            " 11  CASH_ADVANCE_TRX                  8950 non-null   int64  \n",
            " 12  PURCHASES_TRX                     8950 non-null   int64  \n",
            " 13  CREDIT_LIMIT                      8949 non-null   float64\n",
            " 14  PAYMENTS                          8950 non-null   float64\n",
            " 15  MINIMUM_PAYMENTS                  8637 non-null   float64\n",
            " 16  PRC_FULL_PAYMENT                  8950 non-null   float64\n",
            " 17  TENURE                            8950 non-null   int64  \n",
            "dtypes: float64(14), int64(3), object(1)\n",
            "memory usage: 1.2+ MB\n"
          ]
        }
      ]
    },
    {
      "cell_type": "markdown",
      "source": [
        "## Primary Analysis Of Categorical Features\n",
        "we have only one categorical variable so i extracted a categorical column from cust_id column and doing analysis"
      ],
      "metadata": {
        "id": "XvgL-zgBF3hi"
      }
    },
    {
      "cell_type": "code",
      "source": [
        "print(df.CUST_ID.unique())"
      ],
      "metadata": {
        "colab": {
          "base_uri": "https://localhost:8080/"
        },
        "id": "hk0i_4YHBfvD",
        "outputId": "ed25729a-d2ee-4786-8111-3dca7cfe50ba"
      },
      "execution_count": null,
      "outputs": [
        {
          "output_type": "stream",
          "name": "stdout",
          "text": [
            "['C10001' 'C10002' 'C10003' ... 'C19188' 'C19189' 'C19190']\n"
          ]
        }
      ]
    },
    {
      "cell_type": "code",
      "source": [
        "h=df.CUST_ID.str[0:3]"
      ],
      "metadata": {
        "id": "TUJmA9MpCQKt"
      },
      "execution_count": null,
      "outputs": []
    },
    {
      "cell_type": "code",
      "source": [
        "h.value_counts()"
      ],
      "metadata": {
        "colab": {
          "base_uri": "https://localhost:8080/"
        },
        "id": "9aOKlAkkDV20",
        "outputId": "319a13df-a522-4e1d-d2da-be37df880020"
      },
      "execution_count": null,
      "outputs": [
        {
          "output_type": "execute_result",
          "data": {
            "text/plain": [
              "C12    978\n",
              "C17    976\n",
              "C14    975\n",
              "C16    975\n",
              "C13    974\n",
              "C18    973\n",
              "C15    972\n",
              "C11    972\n",
              "C10    966\n",
              "C19    189\n",
              "Name: CUST_ID, dtype: int64"
            ]
          },
          "metadata": {},
          "execution_count": 15
        }
      ]
    },
    {
      "cell_type": "code",
      "source": [
        "df[\"Customer_class\"]=h"
      ],
      "metadata": {
        "id": "CeDAjxyJDv6N"
      },
      "execution_count": null,
      "outputs": []
    },
    {
      "cell_type": "code",
      "source": [
        "sns.barplot(x=\"Customer_class\",y=\"BALANCE\",data=df)"
      ],
      "metadata": {
        "colab": {
          "base_uri": "https://localhost:8080/",
          "height": 297
        },
        "id": "_khYVF_vEJPs",
        "outputId": "ffdfbfb6-0bc8-469f-828b-701f96492bac"
      },
      "execution_count": null,
      "outputs": [
        {
          "output_type": "execute_result",
          "data": {
            "text/plain": [
              "<matplotlib.axes._subplots.AxesSubplot at 0x7f9fa9ada110>"
            ]
          },
          "metadata": {},
          "execution_count": 17
        },
        {
          "output_type": "display_data",
          "data": {
            "image/png": "[encoded data removed]",
            "text/plain": [
              "<Figure size 432x288 with 1 Axes>"
            ]
          },
          "metadata": {
            "needs_background": "light"
          }
        }
      ]
    },
    {
      "cell_type": "code",
      "source": [
        "sns.boxplot(x=\"Customer_class\",y=\"BALANCE\",data=df)"
      ],
      "metadata": {
        "colab": {
          "base_uri": "https://localhost:8080/",
          "height": 297
        },
        "id": "XcEgWZ94EjZK",
        "outputId": "84a958da-5fb3-4f0e-951c-a20ef0d156d1"
      },
      "execution_count": null,
      "outputs": [
        {
          "output_type": "execute_result",
          "data": {
            "text/plain": [
              "<matplotlib.axes._subplots.AxesSubplot at 0x7f9fa98d3fd0>"
            ]
          },
          "metadata": {},
          "execution_count": 18
        },
        {
          "output_type": "display_data",
          "data": {
            "image/png": "[encoded data removed]",
            "text/plain": [
              "<Figure size 432x288 with 1 Axes>"
            ]
          },
          "metadata": {
            "needs_background": "light"
          }
        }
      ]
    },
    {
      "cell_type": "code",
      "source": [
        "sns.barplot(x=\"Customer_class\",y=\"CREDIT_LIMIT\",data=df)"
      ],
      "metadata": {
        "colab": {
          "base_uri": "https://localhost:8080/",
          "height": 297
        },
        "id": "8Z_BRvSzFPcm",
        "outputId": "ec8761a8-06a2-463f-fbd2-4691a9cd075e"
      },
      "execution_count": null,
      "outputs": [
        {
          "output_type": "execute_result",
          "data": {
            "text/plain": [
              "<matplotlib.axes._subplots.AxesSubplot at 0x7f9fa98d3d10>"
            ]
          },
          "metadata": {},
          "execution_count": 19
        },
        {
          "output_type": "display_data",
          "data": {
            "image/png": "[encoded data removed]",
            "text/plain": [
              "<Figure size 432x288 with 1 Axes>"
            ]
          },
          "metadata": {
            "needs_background": "light"
          }
        }
      ]
    },
    {
      "cell_type": "code",
      "source": [
        "sns.violinplot(x=\"Customer_class\",y=\"CREDIT_LIMIT\",data=df)"
      ],
      "metadata": {
        "colab": {
          "base_uri": "https://localhost:8080/",
          "height": 297
        },
        "id": "6Vky0TdCFmP7",
        "outputId": "7b9abdd9-4f2e-42eb-a3e0-da48b6fadf55"
      },
      "execution_count": null,
      "outputs": [
        {
          "output_type": "execute_result",
          "data": {
            "text/plain": [
              "<matplotlib.axes._subplots.AxesSubplot at 0x7f9fa934a7d0>"
            ]
          },
          "metadata": {},
          "execution_count": 20
        },
        {
          "output_type": "display_data",
          "data": {
            "image/png": "[encoded data removed]",
            "text/plain": [
              "<Figure size 432x288 with 1 Axes>"
            ]
          },
          "metadata": {
            "needs_background": "light"
          }
        }
      ]
    },
    {
      "cell_type": "code",
      "source": [
        "#As we can observe that there is difference in Income and Credid card limit of different customers\n",
        "#We can observe outliers in our data."
      ],
      "metadata": {
        "id": "gTLakCu-FuuX"
      },
      "execution_count": null,
      "outputs": []
    },
    {
      "cell_type": "markdown",
      "source": [
        "### Exploratory Data Analysis"
      ],
      "metadata": {
        "id": "sOLb1ZrPGm2p"
      }
    },
    {
      "cell_type": "markdown",
      "source": [
        "#### Missing value analysis"
      ],
      "metadata": {
        "id": "svNnj_m7GvGz"
      }
    },
    {
      "cell_type": "code",
      "source": [
        "df.isnull().sum().sort_values(ascending=False)"
      ],
      "metadata": {
        "colab": {
          "base_uri": "https://localhost:8080/"
        },
        "id": "lI35v3BgGs9U",
        "outputId": "b4e762a7-6079-49c5-86a8-fcadf6e39941"
      },
      "execution_count": null,
      "outputs": [
        {
          "output_type": "execute_result",
          "data": {
            "text/plain": [
              "MINIMUM_PAYMENTS                    313\n",
              "CREDIT_LIMIT                          1\n",
              "Customer_class                        0\n",
              "PURCHASES_FREQUENCY                   0\n",
              "BALANCE                               0\n",
              "BALANCE_FREQUENCY                     0\n",
              "PURCHASES                             0\n",
              "ONEOFF_PURCHASES                      0\n",
              "INSTALLMENTS_PURCHASES                0\n",
              "CASH_ADVANCE                          0\n",
              "PURCHASES_INSTALLMENTS_FREQUENCY      0\n",
              "ONEOFF_PURCHASES_FREQUENCY            0\n",
              "TENURE                                0\n",
              "CASH_ADVANCE_FREQUENCY                0\n",
              "CASH_ADVANCE_TRX                      0\n",
              "PURCHASES_TRX                         0\n",
              "PAYMENTS                              0\n",
              "PRC_FULL_PAYMENT                      0\n",
              "CUST_ID                               0\n",
              "dtype: int64"
            ]
          },
          "metadata": {},
          "execution_count": 22
        }
      ]
    },
    {
      "cell_type": "code",
      "source": [
        "#We have two column swith missing values\n",
        "#Let's look at the columns once"
      ],
      "metadata": {
        "id": "bl0XNC26G52l"
      },
      "execution_count": null,
      "outputs": []
    },
    {
      "cell_type": "code",
      "source": [
        "df.MINIMUM_PAYMENTS"
      ],
      "metadata": {
        "colab": {
          "base_uri": "https://localhost:8080/"
        },
        "id": "fy_-483SHVOv",
        "outputId": "3342b6c2-cc4b-448b-8904-bd0bc5608c2d"
      },
      "execution_count": null,
      "outputs": [
        {
          "output_type": "execute_result",
          "data": {
            "text/plain": [
              "0        139.509787\n",
              "1       1072.340217\n",
              "2        627.284787\n",
              "3               NaN\n",
              "4        244.791237\n",
              "           ...     \n",
              "8945      48.886365\n",
              "8946            NaN\n",
              "8947      82.418369\n",
              "8948      55.755628\n",
              "8949      88.288956\n",
              "Name: MINIMUM_PAYMENTS, Length: 8950, dtype: float64"
            ]
          },
          "metadata": {},
          "execution_count": 24
        }
      ]
    },
    {
      "cell_type": "code",
      "source": [
        "df.CREDIT_LIMIT"
      ],
      "metadata": {
        "colab": {
          "base_uri": "https://localhost:8080/"
        },
        "id": "X0DEpnKIHqlu",
        "outputId": "5310937a-5030-4f74-8844-4ebe363c20ab"
      },
      "execution_count": null,
      "outputs": [
        {
          "output_type": "execute_result",
          "data": {
            "text/plain": [
              "0       1000.0\n",
              "1       7000.0\n",
              "2       7500.0\n",
              "3       7500.0\n",
              "4       1200.0\n",
              "         ...  \n",
              "8945    1000.0\n",
              "8946    1000.0\n",
              "8947    1000.0\n",
              "8948     500.0\n",
              "8949    1200.0\n",
              "Name: CREDIT_LIMIT, Length: 8950, dtype: float64"
            ]
          },
          "metadata": {},
          "execution_count": 27
        }
      ]
    },
    {
      "cell_type": "code",
      "source": [
        "#Filling missing values with mean\n",
        "df[\"MINIMUM_PAYMENTS\"].fillna(df[\"MINIMUM_PAYMENTS\"].mean(),inplace=True)\n",
        "df[\"CREDIT_LIMIT\"].fillna(df[\"CREDIT_LIMIT\"].mean(),inplace=True)"
      ],
      "metadata": {
        "id": "Ay7nvYuGHXLP"
      },
      "execution_count": null,
      "outputs": []
    },
    {
      "cell_type": "code",
      "source": [
        "#Let's check our dataframe is nul values are imputed or not?\n",
        "df.isnull().sum().sort_values(ascending=False)"
      ],
      "metadata": {
        "colab": {
          "base_uri": "https://localhost:8080/"
        },
        "id": "oK9v3ZNSH9tQ",
        "outputId": "d05c5321-684d-42f4-ef25-3de38f48c2da"
      },
      "execution_count": null,
      "outputs": [
        {
          "output_type": "execute_result",
          "data": {
            "text/plain": [
              "Customer_class                      0\n",
              "ONEOFF_PURCHASES_FREQUENCY          0\n",
              "BALANCE                             0\n",
              "BALANCE_FREQUENCY                   0\n",
              "PURCHASES                           0\n",
              "ONEOFF_PURCHASES                    0\n",
              "INSTALLMENTS_PURCHASES              0\n",
              "CASH_ADVANCE                        0\n",
              "PURCHASES_FREQUENCY                 0\n",
              "PURCHASES_INSTALLMENTS_FREQUENCY    0\n",
              "TENURE                              0\n",
              "CASH_ADVANCE_FREQUENCY              0\n",
              "CASH_ADVANCE_TRX                    0\n",
              "PURCHASES_TRX                       0\n",
              "CREDIT_LIMIT                        0\n",
              "PAYMENTS                            0\n",
              "MINIMUM_PAYMENTS                    0\n",
              "PRC_FULL_PAYMENT                    0\n",
              "CUST_ID                             0\n",
              "dtype: int64"
            ]
          },
          "metadata": {},
          "execution_count": 29
        }
      ]
    },
    {
      "cell_type": "markdown",
      "source": [
        "### Outlier treament with Z score method\n"
      ],
      "metadata": {
        "id": "-omPGd--Ikhd"
      }
    },
    {
      "cell_type": "code",
      "source": [
        "from scipy.stats import zscore"
      ],
      "metadata": {
        "id": "Ip17xX61IYFa"
      },
      "execution_count": null,
      "outputs": []
    },
    {
      "cell_type": "code",
      "source": [
        "z_score=zscore(df.drop([\"CUST_ID\",\"Customer_class\"],axis=1))"
      ],
      "metadata": {
        "id": "3hZ0urBIJlOn"
      },
      "execution_count": null,
      "outputs": []
    },
    {
      "cell_type": "code",
      "source": [
        "z_score=pd.DataFrame(z_score)"
      ],
      "metadata": {
        "id": "OH73TQnKKJHb"
      },
      "execution_count": null,
      "outputs": []
    },
    {
      "cell_type": "code",
      "source": [
        "z_score[\"CUST_ID\"]=df[\"CUST_ID\"]"
      ],
      "metadata": {
        "id": "QVhRB4j6KPfB"
      },
      "execution_count": null,
      "outputs": []
    },
    {
      "cell_type": "code",
      "source": [
        "z_score"
      ],
      "metadata": {
        "colab": {
          "base_uri": "https://localhost:8080/",
          "height": 661
        },
        "id": "Pa0zIliOKW6H",
        "outputId": "1db07040-245a-48bd-9c54-c62f71f63e9f"
      },
      "execution_count": null,
      "outputs": [
        {
          "output_type": "execute_result",
          "data": {
            "text/html": [
              "\n",
              "  <div id=\"df-8f6ffeeb-2da3-4376-ba1e-275361634fdb\">\n",
              "    <div class=\"colab-df-container\">\n",
              "      <div>\n",
              "<style scoped>\n",
              "    .dataframe tbody tr th:only-of-type {\n",
              "        vertical-align: middle;\n",
              "    }\n",
              "\n",
              "    .dataframe tbody tr th {\n",
              "        vertical-align: top;\n",
              "    }\n",
              "\n",
              "    .dataframe thead th {\n",
              "        text-align: right;\n",
              "    }\n",
              "</style>\n",
              "<table border=\"1\" class=\"dataframe\">\n",
              "  <thead>\n",
              "    <tr style=\"text-align: right;\">\n",
              "      <th></th>\n",
              "      <th>0</th>\n",
              "      <th>1</th>\n",
              "      <th>2</th>\n",
              "      <th>3</th>\n",
              "      <th>4</th>\n",
              "      <th>5</th>\n",
              "      <th>6</th>\n",
              "      <th>7</th>\n",
              "      <th>8</th>\n",
              "      <th>9</th>\n",
              "      <th>10</th>\n",
              "      <th>11</th>\n",
              "      <th>12</th>\n",
              "      <th>13</th>\n",
              "      <th>14</th>\n",
              "      <th>15</th>\n",
              "      <th>16</th>\n",
              "      <th>CUST_ID</th>\n",
              "    </tr>\n",
              "  </thead>\n",
              "  <tbody>\n",
              "    <tr>\n",
              "      <th>0</th>\n",
              "      <td>-0.731989</td>\n",
              "      <td>-0.249434</td>\n",
              "      <td>-0.424900</td>\n",
              "      <td>-0.356934</td>\n",
              "      <td>-0.349079</td>\n",
              "      <td>-0.466786</td>\n",
              "      <td>-0.806490</td>\n",
              "      <td>-0.678661</td>\n",
              "      <td>-0.707313</td>\n",
              "      <td>-0.675349</td>\n",
              "      <td>-0.476070</td>\n",
              "      <td>-0.511333</td>\n",
              "      <td>-0.960433</td>\n",
              "      <td>-0.528979</td>\n",
              "      <td>-3.109675e-01</td>\n",
              "      <td>-0.525551</td>\n",
              "      <td>0.360680</td>\n",
              "      <td>C10001</td>\n",
              "    </tr>\n",
              "    <tr>\n",
              "      <th>1</th>\n",
              "      <td>0.786961</td>\n",
              "      <td>0.134325</td>\n",
              "      <td>-0.469552</td>\n",
              "      <td>-0.356934</td>\n",
              "      <td>-0.454576</td>\n",
              "      <td>2.605605</td>\n",
              "      <td>-1.221758</td>\n",
              "      <td>-0.678661</td>\n",
              "      <td>-0.916995</td>\n",
              "      <td>0.573963</td>\n",
              "      <td>0.110074</td>\n",
              "      <td>-0.591796</td>\n",
              "      <td>0.688639</td>\n",
              "      <td>0.818642</td>\n",
              "      <td>8.931021e-02</td>\n",
              "      <td>0.234227</td>\n",
              "      <td>0.360680</td>\n",
              "      <td>C10002</td>\n",
              "    </tr>\n",
              "    <tr>\n",
              "      <th>2</th>\n",
              "      <td>0.447135</td>\n",
              "      <td>0.518084</td>\n",
              "      <td>-0.107668</td>\n",
              "      <td>0.108889</td>\n",
              "      <td>-0.454576</td>\n",
              "      <td>-0.466786</td>\n",
              "      <td>1.269843</td>\n",
              "      <td>2.673451</td>\n",
              "      <td>-0.916995</td>\n",
              "      <td>-0.675349</td>\n",
              "      <td>-0.476070</td>\n",
              "      <td>-0.109020</td>\n",
              "      <td>0.826062</td>\n",
              "      <td>-0.383805</td>\n",
              "      <td>-1.016632e-01</td>\n",
              "      <td>-0.525551</td>\n",
              "      <td>0.360680</td>\n",
              "      <td>C10003</td>\n",
              "    </tr>\n",
              "    <tr>\n",
              "      <th>3</th>\n",
              "      <td>0.049099</td>\n",
              "      <td>-1.016953</td>\n",
              "      <td>0.232058</td>\n",
              "      <td>0.546189</td>\n",
              "      <td>-0.454576</td>\n",
              "      <td>-0.368653</td>\n",
              "      <td>-1.014125</td>\n",
              "      <td>-0.399319</td>\n",
              "      <td>-0.916995</td>\n",
              "      <td>-0.258913</td>\n",
              "      <td>-0.329534</td>\n",
              "      <td>-0.551565</td>\n",
              "      <td>0.826062</td>\n",
              "      <td>-0.598688</td>\n",
              "      <td>-5.366135e-16</td>\n",
              "      <td>-0.525551</td>\n",
              "      <td>0.360680</td>\n",
              "      <td>C10004</td>\n",
              "    </tr>\n",
              "    <tr>\n",
              "      <th>4</th>\n",
              "      <td>-0.358775</td>\n",
              "      <td>0.518084</td>\n",
              "      <td>-0.462063</td>\n",
              "      <td>-0.347294</td>\n",
              "      <td>-0.454576</td>\n",
              "      <td>-0.466786</td>\n",
              "      <td>-1.014125</td>\n",
              "      <td>-0.399319</td>\n",
              "      <td>-0.916995</td>\n",
              "      <td>-0.675349</td>\n",
              "      <td>-0.476070</td>\n",
              "      <td>-0.551565</td>\n",
              "      <td>-0.905464</td>\n",
              "      <td>-0.364368</td>\n",
              "      <td>-2.657913e-01</td>\n",
              "      <td>-0.525551</td>\n",
              "      <td>0.360680</td>\n",
              "      <td>C10005</td>\n",
              "    </tr>\n",
              "    <tr>\n",
              "      <th>...</th>\n",
              "      <td>...</td>\n",
              "      <td>...</td>\n",
              "      <td>...</td>\n",
              "      <td>...</td>\n",
              "      <td>...</td>\n",
              "      <td>...</td>\n",
              "      <td>...</td>\n",
              "      <td>...</td>\n",
              "      <td>...</td>\n",
              "      <td>...</td>\n",
              "      <td>...</td>\n",
              "      <td>...</td>\n",
              "      <td>...</td>\n",
              "      <td>...</td>\n",
              "      <td>...</td>\n",
              "      <td>...</td>\n",
              "      <td>...</td>\n",
              "      <td>...</td>\n",
              "    </tr>\n",
              "    <tr>\n",
              "      <th>8945</th>\n",
              "      <td>-0.737950</td>\n",
              "      <td>0.518084</td>\n",
              "      <td>-0.333293</td>\n",
              "      <td>-0.356934</td>\n",
              "      <td>-0.132643</td>\n",
              "      <td>-0.466786</td>\n",
              "      <td>1.269843</td>\n",
              "      <td>-0.678661</td>\n",
              "      <td>1.179833</td>\n",
              "      <td>-0.675349</td>\n",
              "      <td>-0.476070</td>\n",
              "      <td>-0.350408</td>\n",
              "      <td>-0.960433</td>\n",
              "      <td>-0.486217</td>\n",
              "      <td>-3.498541e-01</td>\n",
              "      <td>1.183951</td>\n",
              "      <td>-4.122768</td>\n",
              "      <td>C19186</td>\n",
              "    </tr>\n",
              "    <tr>\n",
              "      <th>8946</th>\n",
              "      <td>-0.742423</td>\n",
              "      <td>0.518084</td>\n",
              "      <td>-0.329136</td>\n",
              "      <td>-0.356934</td>\n",
              "      <td>-0.122823</td>\n",
              "      <td>-0.466786</td>\n",
              "      <td>1.269843</td>\n",
              "      <td>-0.678661</td>\n",
              "      <td>1.179833</td>\n",
              "      <td>-0.675349</td>\n",
              "      <td>-0.476070</td>\n",
              "      <td>-0.350408</td>\n",
              "      <td>-0.960433</td>\n",
              "      <td>-0.503396</td>\n",
              "      <td>-5.366135e-16</td>\n",
              "      <td>-0.525551</td>\n",
              "      <td>-4.122768</td>\n",
              "      <td>C19187</td>\n",
              "    </tr>\n",
              "    <tr>\n",
              "      <th>8947</th>\n",
              "      <td>-0.740398</td>\n",
              "      <td>-0.185477</td>\n",
              "      <td>-0.401965</td>\n",
              "      <td>-0.356934</td>\n",
              "      <td>-0.294893</td>\n",
              "      <td>-0.466786</td>\n",
              "      <td>0.854576</td>\n",
              "      <td>-0.678661</td>\n",
              "      <td>0.760469</td>\n",
              "      <td>-0.675349</td>\n",
              "      <td>-0.476070</td>\n",
              "      <td>-0.390639</td>\n",
              "      <td>-0.960433</td>\n",
              "      <td>-0.570615</td>\n",
              "      <td>-3.354655e-01</td>\n",
              "      <td>0.329200</td>\n",
              "      <td>-4.122768</td>\n",
              "      <td>C19188</td>\n",
              "    </tr>\n",
              "    <tr>\n",
              "      <th>8948</th>\n",
              "      <td>-0.745174</td>\n",
              "      <td>-0.185477</td>\n",
              "      <td>-0.469552</td>\n",
              "      <td>-0.356934</td>\n",
              "      <td>-0.454576</td>\n",
              "      <td>-0.449352</td>\n",
              "      <td>-1.221758</td>\n",
              "      <td>-0.678661</td>\n",
              "      <td>-0.916995</td>\n",
              "      <td>0.157527</td>\n",
              "      <td>-0.182998</td>\n",
              "      <td>-0.591796</td>\n",
              "      <td>-1.097856</td>\n",
              "      <td>-0.580536</td>\n",
              "      <td>-3.469065e-01</td>\n",
              "      <td>0.329200</td>\n",
              "      <td>-4.122768</td>\n",
              "      <td>C19189</td>\n",
              "    </tr>\n",
              "    <tr>\n",
              "      <th>8949</th>\n",
              "      <td>-0.572575</td>\n",
              "      <td>-0.889033</td>\n",
              "      <td>0.042146</td>\n",
              "      <td>0.301732</td>\n",
              "      <td>-0.454576</td>\n",
              "      <td>-0.406205</td>\n",
              "      <td>0.439310</td>\n",
              "      <td>1.556082</td>\n",
              "      <td>-0.916995</td>\n",
              "      <td>0.990398</td>\n",
              "      <td>-0.182998</td>\n",
              "      <td>0.333524</td>\n",
              "      <td>-0.905464</td>\n",
              "      <td>-0.576869</td>\n",
              "      <td>-3.329464e-01</td>\n",
              "      <td>-0.525551</td>\n",
              "      <td>-4.122768</td>\n",
              "      <td>C19190</td>\n",
              "    </tr>\n",
              "  </tbody>\n",
              "</table>\n",
              "<p>8950 rows × 18 columns</p>\n",
              "</div>\n",
              "      <button class=\"colab-df-convert\" onclick=\"convertToInteractive('df-8f6ffeeb-2da3-4376-ba1e-275361634fdb')\"\n",
              "              title=\"Convert this dataframe to an interactive table.\"\n",
              "              style=\"display:none;\">\n",
              "        \n",
              "  <svg xmlns=\"http://www.w3.org/2000/svg\" height=\"24px\"viewBox=\"0 0 24 24\"\n",
              "       width=\"24px\">\n",
              "    <path d=\"M0 0h24v24H0V0z\" fill=\"none\"/>\n",
              "    <path d=\"M18.56 5.44l.94 2.06.94-2.06 2.06-.94-2.06-.94-.94-2.06-.94 2.06-2.06.94zm-11 1L8.5 8.5l.94-2.06 2.06-.94-2.06-.94L8.5 2.5l-.94 2.06-2.06.94zm10 10l.94 2.06.94-2.06 2.06-.94-2.06-.94-.94-2.06-.94 2.06-2.06.94z\"/><path d=\"M17.41 7.96l-1.37-1.37c-.4-.4-.92-.59-1.43-.59-.52 0-1.04.2-1.43.59L10.3 9.45l-7.72 7.72c-.78.78-.78 2.05 0 2.83L4 21.41c.39.39.9.59 1.41.59.51 0 1.02-.2 1.41-.59l7.78-7.78 2.81-2.81c.8-.78.8-2.07 0-2.86zM5.41 20L4 18.59l7.72-7.72 1.47 1.35L5.41 20z\"/>\n",
              "  </svg>\n",
              "      </button>\n",
              "      \n",
              "  <style>\n",
              "    .colab-df-container {\n",
              "      display:flex;\n",
              "      flex-wrap:wrap;\n",
              "      gap: 12px;\n",
              "    }\n",
              "\n",
              "    .colab-df-convert {\n",
              "      background-color: #E8F0FE;\n",
              "      border: none;\n",
              "      border-radius: 50%;\n",
              "      cursor: pointer;\n",
              "      display: none;\n",
              "      fill: #1967D2;\n",
              "      height: 32px;\n",
              "      padding: 0 0 0 0;\n",
              "      width: 32px;\n",
              "    }\n",
              "\n",
              "    .colab-df-convert:hover {\n",
              "      background-color: #E2EBFA;\n",
              "      box-shadow: 0px 1px 2px rgba(60, 64, 67, 0.3), 0px 1px 3px 1px rgba(60, 64, 67, 0.15);\n",
              "      fill: #174EA6;\n",
              "    }\n",
              "\n",
              "    [theme=dark] .colab-df-convert {\n",
              "      background-color: #3B4455;\n",
              "      fill: #D2E3FC;\n",
              "    }\n",
              "\n",
              "    [theme=dark] .colab-df-convert:hover {\n",
              "      background-color: #434B5C;\n",
              "      box-shadow: 0px 1px 3px 1px rgba(0, 0, 0, 0.15);\n",
              "      filter: drop-shadow(0px 1px 2px rgba(0, 0, 0, 0.3));\n",
              "      fill: #FFFFFF;\n",
              "    }\n",
              "  </style>\n",
              "\n",
              "      <script>\n",
              "        const buttonEl =\n",
              "          document.querySelector('#df-8f6ffeeb-2da3-4376-ba1e-275361634fdb button.colab-df-convert');\n",
              "        buttonEl.style.display =\n",
              "          google.colab.kernel.accessAllowed ? 'block' : 'none';\n",
              "\n",
              "        async function convertToInteractive(key) {\n",
              "          const element = document.querySelector('#df-8f6ffeeb-2da3-4376-ba1e-275361634fdb');\n",
              "          const dataTable =\n",
              "            await google.colab.kernel.invokeFunction('convertToInteractive',\n",
              "                                                     [key], {});\n",
              "          if (!dataTable) return;\n",
              "\n",
              "          const docLinkHtml = 'Like what you see? Visit the ' +\n",
              "            '<a target=\"_blank\" href=https://colab.research.google.com/notebooks/data_table.ipynb>data table notebook</a>'\n",
              "            + ' to learn more about interactive tables.';\n",
              "          element.innerHTML = '';\n",
              "          dataTable['output_type'] = 'display_data';\n",
              "          await google.colab.output.renderOutput(dataTable, element);\n",
              "          const docLink = document.createElement('div');\n",
              "          docLink.innerHTML = docLinkHtml;\n",
              "          element.appendChild(docLink);\n",
              "        }\n",
              "      </script>\n",
              "    </div>\n",
              "  </div>\n",
              "  "
            ],
            "text/plain": [
              "             0         1         2  ...        15        16  CUST_ID\n",
              "0    -0.731989 -0.249434 -0.424900  ... -0.525551  0.360680   C10001\n",
              "1     0.786961  0.134325 -0.469552  ...  0.234227  0.360680   C10002\n",
              "2     0.447135  0.518084 -0.107668  ... -0.525551  0.360680   C10003\n",
              "3     0.049099 -1.016953  0.232058  ... -0.525551  0.360680   C10004\n",
              "4    -0.358775  0.518084 -0.462063  ... -0.525551  0.360680   C10005\n",
              "...        ...       ...       ...  ...       ...       ...      ...\n",
              "8945 -0.737950  0.518084 -0.333293  ...  1.183951 -4.122768   C19186\n",
              "8946 -0.742423  0.518084 -0.329136  ... -0.525551 -4.122768   C19187\n",
              "8947 -0.740398 -0.185477 -0.401965  ...  0.329200 -4.122768   C19188\n",
              "8948 -0.745174 -0.185477 -0.469552  ...  0.329200 -4.122768   C19189\n",
              "8949 -0.572575 -0.889033  0.042146  ... -0.525551 -4.122768   C19190\n",
              "\n",
              "[8950 rows x 18 columns]"
            ]
          },
          "metadata": {},
          "execution_count": 34
        }
      ]
    },
    {
      "cell_type": "code",
      "source": [
        "#Removing otliers column by column"
      ],
      "metadata": {
        "id": "QhAcateyNIFi"
      },
      "execution_count": null,
      "outputs": []
    },
    {
      "cell_type": "code",
      "source": [
        "z_score.iloc[:,0]"
      ],
      "metadata": {
        "colab": {
          "base_uri": "https://localhost:8080/"
        },
        "id": "2tlVx3jKMy69",
        "outputId": "81942829-849e-489a-f4dc-45e0d4c2f4a3"
      },
      "execution_count": null,
      "outputs": [
        {
          "output_type": "execute_result",
          "data": {
            "text/plain": [
              "0      -0.731989\n",
              "1       0.786961\n",
              "2       0.447135\n",
              "3       0.049099\n",
              "4      -0.358775\n",
              "          ...   \n",
              "8945   -0.737950\n",
              "8946   -0.742423\n",
              "8947   -0.740398\n",
              "8948   -0.745174\n",
              "8949   -0.572575\n",
              "Name: 0, Length: 8950, dtype: float64"
            ]
          },
          "metadata": {},
          "execution_count": 51
        }
      ]
    },
    {
      "cell_type": "code",
      "source": [
        "z_score_new=z_score[(z_score.iloc[:,0]<3) & (z_score.iloc[:,0]>-3)]\n",
        "z_score_new.shape"
      ],
      "metadata": {
        "colab": {
          "base_uri": "https://localhost:8080/"
        },
        "id": "kZETRFJcMerg",
        "outputId": "60978449-b302-4de6-a834-e7c2cdf63a64"
      },
      "execution_count": null,
      "outputs": [
        {
          "output_type": "execute_result",
          "data": {
            "text/plain": [
              "(8754, 18)"
            ]
          },
          "metadata": {},
          "execution_count": 142
        }
      ]
    },
    {
      "cell_type": "code",
      "source": [
        "z_score_new=z_score_new[(z_score_new.iloc[:,1]<3) & (z_score_new.iloc[:,1]>-3)]\n",
        "z_score_new.shape"
      ],
      "metadata": {
        "colab": {
          "base_uri": "https://localhost:8080/"
        },
        "id": "yrDCcPVhR0og",
        "outputId": "499b3310-1106-4661-dd74-31275cd3705f"
      },
      "execution_count": null,
      "outputs": [
        {
          "output_type": "execute_result",
          "data": {
            "text/plain": [
              "(8578, 18)"
            ]
          },
          "metadata": {},
          "execution_count": 143
        }
      ]
    },
    {
      "cell_type": "code",
      "source": [
        "z_score_new=z_score_new[(z_score_new.iloc[:,2]<3) & (z_score_new.iloc[:,2]>-3)]\n",
        "z_score_new.shape"
      ],
      "metadata": {
        "colab": {
          "base_uri": "https://localhost:8080/"
        },
        "id": "S6o14NyJSQ9E",
        "outputId": "30be0bb1-c26b-4ae3-ee74-e4fade803fdb"
      },
      "execution_count": null,
      "outputs": [
        {
          "output_type": "execute_result",
          "data": {
            "text/plain": [
              "(8465, 18)"
            ]
          },
          "metadata": {},
          "execution_count": 145
        }
      ]
    },
    {
      "cell_type": "code",
      "source": [
        "z_score_new=z_score_new[(z_score_new.iloc[:,3]<3) & (z_score_new.iloc[:,3]>-3)]\n",
        "z_score_new.shape"
      ],
      "metadata": {
        "colab": {
          "base_uri": "https://localhost:8080/"
        },
        "id": "DL2kchJ9SWAE",
        "outputId": "4719100e-4549-45b3-a00a-b96a2748767b"
      },
      "execution_count": null,
      "outputs": [
        {
          "output_type": "execute_result",
          "data": {
            "text/plain": [
              "(8438, 18)"
            ]
          },
          "metadata": {},
          "execution_count": 146
        }
      ]
    },
    {
      "cell_type": "code",
      "source": [
        "z_score_new=z_score_new[(z_score_new.iloc[:,4]<3) & (z_score_new.iloc[:,4]>-3)]\n",
        "z_score_new.shape"
      ],
      "metadata": {
        "colab": {
          "base_uri": "https://localhost:8080/"
        },
        "id": "52V_XUKYSdxU",
        "outputId": "b6e5a19e-4079-4313-ddc2-7519194cb5a0"
      },
      "execution_count": null,
      "outputs": [
        {
          "output_type": "execute_result",
          "data": {
            "text/plain": [
              "(8372, 18)"
            ]
          },
          "metadata": {},
          "execution_count": 147
        }
      ]
    },
    {
      "cell_type": "code",
      "source": [
        "z_score_new=z_score_new[(z_score_new.iloc[:,5]<3) & (z_score_new.iloc[:,5]>-3)]\n",
        "z_score_new.shape"
      ],
      "metadata": {
        "colab": {
          "base_uri": "https://localhost:8080/"
        },
        "id": "gx5JKWujSi1U",
        "outputId": "f946dea1-b001-454e-e31b-b58cb83d97d3"
      },
      "execution_count": null,
      "outputs": [
        {
          "output_type": "execute_result",
          "data": {
            "text/plain": [
              "(8234, 18)"
            ]
          },
          "metadata": {},
          "execution_count": 148
        }
      ]
    },
    {
      "cell_type": "code",
      "source": [
        "z_score_new=z_score_new[(z_score_new.iloc[:,6]<3) & (z_score_new.iloc[:,6]>-3)]\n",
        "z_score_new.shape"
      ],
      "metadata": {
        "colab": {
          "base_uri": "https://localhost:8080/"
        },
        "id": "zl1ccZGqSl6a",
        "outputId": "aa198fa7-9a40-4d0b-aa7d-8b6884c35d6d"
      },
      "execution_count": null,
      "outputs": [
        {
          "output_type": "execute_result",
          "data": {
            "text/plain": [
              "(8234, 18)"
            ]
          },
          "metadata": {},
          "execution_count": 149
        }
      ]
    },
    {
      "cell_type": "code",
      "source": [
        "z_score_new=z_score_new[(z_score_new.iloc[:,7]<3) & (z_score_new.iloc[:,7]>-3)]\n",
        "z_score_new.shape"
      ],
      "metadata": {
        "colab": {
          "base_uri": "https://localhost:8080/"
        },
        "id": "kv9CEFYWSpan",
        "outputId": "3db30d02-697f-47b2-a68d-9ebf41e83841"
      },
      "execution_count": null,
      "outputs": [
        {
          "output_type": "execute_result",
          "data": {
            "text/plain": [
              "(8234, 18)"
            ]
          },
          "metadata": {},
          "execution_count": 150
        }
      ]
    },
    {
      "cell_type": "code",
      "source": [
        "z_score_new=z_score_new[(z_score_new.iloc[:,8]<3) & (z_score_new.iloc[:,8]>-3)]\n",
        "z_score_new.shape"
      ],
      "metadata": {
        "colab": {
          "base_uri": "https://localhost:8080/"
        },
        "id": "1iMqaZ15Ss8D",
        "outputId": "65bbe20a-c1cb-4cff-ffb5-47bb5f885731"
      },
      "execution_count": null,
      "outputs": [
        {
          "output_type": "execute_result",
          "data": {
            "text/plain": [
              "(8234, 18)"
            ]
          },
          "metadata": {},
          "execution_count": 151
        }
      ]
    },
    {
      "cell_type": "code",
      "source": [
        "z_score_new=z_score_new[(z_score_new.iloc[:,9]<3) & (z_score_new.iloc[:,9]>-3)]\n",
        "z_score_new.shape"
      ],
      "metadata": {
        "colab": {
          "base_uri": "https://localhost:8080/"
        },
        "id": "TEX2nuJGTVgU",
        "outputId": "247d39f3-ac68-4eea-c9e7-e2cd00cef4b9"
      },
      "execution_count": null,
      "outputs": [
        {
          "output_type": "execute_result",
          "data": {
            "text/plain": [
              "(8095, 18)"
            ]
          },
          "metadata": {},
          "execution_count": 152
        }
      ]
    },
    {
      "cell_type": "code",
      "source": [
        "z_score_new=z_score_new[(z_score_new.iloc[:,10]<3) & (z_score_new.iloc[:,10]>-3)]\n",
        "z_score_new.shape"
      ],
      "metadata": {
        "colab": {
          "base_uri": "https://localhost:8080/"
        },
        "id": "9NzQePaRTQ3Y",
        "outputId": "ee12b161-50e2-4334-ed6e-b47b0bbf8f8c"
      },
      "execution_count": null,
      "outputs": [
        {
          "output_type": "execute_result",
          "data": {
            "text/plain": [
              "(8042, 18)"
            ]
          },
          "metadata": {},
          "execution_count": 153
        }
      ]
    },
    {
      "cell_type": "code",
      "source": [
        "z_score_new=z_score_new[(z_score_new.iloc[:,11]<3) & (z_score_new.iloc[:,11]>-3)]\n",
        "z_score_new.shape"
      ],
      "metadata": {
        "colab": {
          "base_uri": "https://localhost:8080/"
        },
        "id": "kpfcJuDCTMJV",
        "outputId": "8380ee75-3af3-4f2d-8037-30104cea24ad"
      },
      "execution_count": null,
      "outputs": [
        {
          "output_type": "execute_result",
          "data": {
            "text/plain": [
              "(7960, 18)"
            ]
          },
          "metadata": {},
          "execution_count": 154
        }
      ]
    },
    {
      "cell_type": "code",
      "source": [
        "z_score_new=z_score_new[(z_score_new.iloc[:,12]<3) & (z_score_new.iloc[:,12]>-3)]\n",
        "z_score_new.shape"
      ],
      "metadata": {
        "colab": {
          "base_uri": "https://localhost:8080/"
        },
        "id": "L53oP_AgS7SL",
        "outputId": "d8e51ac8-d533-4e25-a5a2-37c83dff78c8"
      },
      "execution_count": null,
      "outputs": [
        {
          "output_type": "execute_result",
          "data": {
            "text/plain": [
              "(7891, 18)"
            ]
          },
          "metadata": {},
          "execution_count": 155
        }
      ]
    },
    {
      "cell_type": "code",
      "source": [
        "z_score_new=z_score_new[(z_score_new.iloc[:,13]<3) & (z_score_new.iloc[:,13]>-3)]\n",
        "z_score_new.shape"
      ],
      "metadata": {
        "colab": {
          "base_uri": "https://localhost:8080/"
        },
        "id": "pAVvWijuX3m7",
        "outputId": "956e7d14-cdc3-4fa6-9b8e-d1ecda0b92e8"
      },
      "execution_count": null,
      "outputs": [
        {
          "output_type": "execute_result",
          "data": {
            "text/plain": [
              "(7434, 18)"
            ]
          },
          "metadata": {},
          "execution_count": 160
        }
      ]
    },
    {
      "cell_type": "code",
      "source": [
        "z_score_new=z_score_new[(z_score_new.iloc[:,14]<3) & (z_score_new.iloc[:,14]>-3)]\n",
        "z_score_new.shape"
      ],
      "metadata": {
        "colab": {
          "base_uri": "https://localhost:8080/"
        },
        "id": "lkSGfWRrTaXH",
        "outputId": "a5d63cb1-6fe3-4315-8206-49d10d74849b"
      },
      "execution_count": null,
      "outputs": [
        {
          "output_type": "execute_result",
          "data": {
            "text/plain": [
              "(7817, 18)"
            ]
          },
          "metadata": {},
          "execution_count": 156
        }
      ]
    },
    {
      "cell_type": "code",
      "source": [
        "z_score_new=z_score_new[(z_score_new.iloc[:,15]<3) & (z_score_new.iloc[:,15]>-3)]\n",
        "z_score_new.shape"
      ],
      "metadata": {
        "colab": {
          "base_uri": "https://localhost:8080/"
        },
        "id": "U6KPdUAETeGi",
        "outputId": "f866a0ac-4fd2-4cdd-fe8e-3f905fa556ff"
      },
      "execution_count": null,
      "outputs": [
        {
          "output_type": "execute_result",
          "data": {
            "text/plain": [
              "(7817, 18)"
            ]
          },
          "metadata": {},
          "execution_count": 157
        }
      ]
    },
    {
      "cell_type": "code",
      "source": [
        "z_score_new=z_score_new[(z_score_new.iloc[:,16]<3) & (z_score_new.iloc[:,16]>-3)]\n",
        "z_score_new.shape"
      ],
      "metadata": {
        "colab": {
          "base_uri": "https://localhost:8080/"
        },
        "id": "8hRFRH4nThjY",
        "outputId": "4eae30f4-39df-499a-8529-3a7f8048ea02"
      },
      "execution_count": null,
      "outputs": [
        {
          "output_type": "execute_result",
          "data": {
            "text/plain": [
              "(7434, 18)"
            ]
          },
          "metadata": {},
          "execution_count": 161
        }
      ]
    },
    {
      "cell_type": "code",
      "source": [
        "z_score_new.head()"
      ],
      "metadata": {
        "colab": {
          "base_uri": "https://localhost:8080/",
          "height": 357
        },
        "id": "rNRTsRdpOyRJ",
        "outputId": "73211f68-a3e0-46b1-a3ca-2507b51d1b2c"
      },
      "execution_count": null,
      "outputs": [
        {
          "output_type": "execute_result",
          "data": {
            "text/html": [
              "\n",
              "  <div id=\"df-91f778d7-6925-46f6-8b33-a5d25f5cecca\">\n",
              "    <div class=\"colab-df-container\">\n",
              "      <div>\n",
              "<style scoped>\n",
              "    .dataframe tbody tr th:only-of-type {\n",
              "        vertical-align: middle;\n",
              "    }\n",
              "\n",
              "    .dataframe tbody tr th {\n",
              "        vertical-align: top;\n",
              "    }\n",
              "\n",
              "    .dataframe thead th {\n",
              "        text-align: right;\n",
              "    }\n",
              "</style>\n",
              "<table border=\"1\" class=\"dataframe\">\n",
              "  <thead>\n",
              "    <tr style=\"text-align: right;\">\n",
              "      <th></th>\n",
              "      <th>0</th>\n",
              "      <th>1</th>\n",
              "      <th>2</th>\n",
              "      <th>3</th>\n",
              "      <th>4</th>\n",
              "      <th>5</th>\n",
              "      <th>6</th>\n",
              "      <th>7</th>\n",
              "      <th>8</th>\n",
              "      <th>9</th>\n",
              "      <th>10</th>\n",
              "      <th>11</th>\n",
              "      <th>12</th>\n",
              "      <th>13</th>\n",
              "      <th>14</th>\n",
              "      <th>15</th>\n",
              "      <th>16</th>\n",
              "      <th>CUST_ID</th>\n",
              "    </tr>\n",
              "  </thead>\n",
              "  <tbody>\n",
              "    <tr>\n",
              "      <th>0</th>\n",
              "      <td>-0.731989</td>\n",
              "      <td>-0.249434</td>\n",
              "      <td>-0.424900</td>\n",
              "      <td>-0.356934</td>\n",
              "      <td>-0.349079</td>\n",
              "      <td>-0.466786</td>\n",
              "      <td>-0.806490</td>\n",
              "      <td>-0.678661</td>\n",
              "      <td>-0.707313</td>\n",
              "      <td>-0.675349</td>\n",
              "      <td>-0.476070</td>\n",
              "      <td>-0.511333</td>\n",
              "      <td>-0.960433</td>\n",
              "      <td>-0.528979</td>\n",
              "      <td>-3.109675e-01</td>\n",
              "      <td>-0.525551</td>\n",
              "      <td>0.36068</td>\n",
              "      <td>C10001</td>\n",
              "    </tr>\n",
              "    <tr>\n",
              "      <th>1</th>\n",
              "      <td>0.786961</td>\n",
              "      <td>0.134325</td>\n",
              "      <td>-0.469552</td>\n",
              "      <td>-0.356934</td>\n",
              "      <td>-0.454576</td>\n",
              "      <td>2.605605</td>\n",
              "      <td>-1.221758</td>\n",
              "      <td>-0.678661</td>\n",
              "      <td>-0.916995</td>\n",
              "      <td>0.573963</td>\n",
              "      <td>0.110074</td>\n",
              "      <td>-0.591796</td>\n",
              "      <td>0.688639</td>\n",
              "      <td>0.818642</td>\n",
              "      <td>8.931021e-02</td>\n",
              "      <td>0.234227</td>\n",
              "      <td>0.36068</td>\n",
              "      <td>C10002</td>\n",
              "    </tr>\n",
              "    <tr>\n",
              "      <th>2</th>\n",
              "      <td>0.447135</td>\n",
              "      <td>0.518084</td>\n",
              "      <td>-0.107668</td>\n",
              "      <td>0.108889</td>\n",
              "      <td>-0.454576</td>\n",
              "      <td>-0.466786</td>\n",
              "      <td>1.269843</td>\n",
              "      <td>2.673451</td>\n",
              "      <td>-0.916995</td>\n",
              "      <td>-0.675349</td>\n",
              "      <td>-0.476070</td>\n",
              "      <td>-0.109020</td>\n",
              "      <td>0.826062</td>\n",
              "      <td>-0.383805</td>\n",
              "      <td>-1.016632e-01</td>\n",
              "      <td>-0.525551</td>\n",
              "      <td>0.36068</td>\n",
              "      <td>C10003</td>\n",
              "    </tr>\n",
              "    <tr>\n",
              "      <th>3</th>\n",
              "      <td>0.049099</td>\n",
              "      <td>-1.016953</td>\n",
              "      <td>0.232058</td>\n",
              "      <td>0.546189</td>\n",
              "      <td>-0.454576</td>\n",
              "      <td>-0.368653</td>\n",
              "      <td>-1.014125</td>\n",
              "      <td>-0.399319</td>\n",
              "      <td>-0.916995</td>\n",
              "      <td>-0.258913</td>\n",
              "      <td>-0.329534</td>\n",
              "      <td>-0.551565</td>\n",
              "      <td>0.826062</td>\n",
              "      <td>-0.598688</td>\n",
              "      <td>-5.366135e-16</td>\n",
              "      <td>-0.525551</td>\n",
              "      <td>0.36068</td>\n",
              "      <td>C10004</td>\n",
              "    </tr>\n",
              "    <tr>\n",
              "      <th>4</th>\n",
              "      <td>-0.358775</td>\n",
              "      <td>0.518084</td>\n",
              "      <td>-0.462063</td>\n",
              "      <td>-0.347294</td>\n",
              "      <td>-0.454576</td>\n",
              "      <td>-0.466786</td>\n",
              "      <td>-1.014125</td>\n",
              "      <td>-0.399319</td>\n",
              "      <td>-0.916995</td>\n",
              "      <td>-0.675349</td>\n",
              "      <td>-0.476070</td>\n",
              "      <td>-0.551565</td>\n",
              "      <td>-0.905464</td>\n",
              "      <td>-0.364368</td>\n",
              "      <td>-2.657913e-01</td>\n",
              "      <td>-0.525551</td>\n",
              "      <td>0.36068</td>\n",
              "      <td>C10005</td>\n",
              "    </tr>\n",
              "  </tbody>\n",
              "</table>\n",
              "</div>\n",
              "      <button class=\"colab-df-convert\" onclick=\"convertToInteractive('df-91f778d7-6925-46f6-8b33-a5d25f5cecca')\"\n",
              "              title=\"Convert this dataframe to an interactive table.\"\n",
              "              style=\"display:none;\">\n",
              "        \n",
              "  <svg xmlns=\"http://www.w3.org/2000/svg\" height=\"24px\"viewBox=\"0 0 24 24\"\n",
              "       width=\"24px\">\n",
              "    <path d=\"M0 0h24v24H0V0z\" fill=\"none\"/>\n",
              "    <path d=\"M18.56 5.44l.94 2.06.94-2.06 2.06-.94-2.06-.94-.94-2.06-.94 2.06-2.06.94zm-11 1L8.5 8.5l.94-2.06 2.06-.94-2.06-.94L8.5 2.5l-.94 2.06-2.06.94zm10 10l.94 2.06.94-2.06 2.06-.94-2.06-.94-.94-2.06-.94 2.06-2.06.94z\"/><path d=\"M17.41 7.96l-1.37-1.37c-.4-.4-.92-.59-1.43-.59-.52 0-1.04.2-1.43.59L10.3 9.45l-7.72 7.72c-.78.78-.78 2.05 0 2.83L4 21.41c.39.39.9.59 1.41.59.51 0 1.02-.2 1.41-.59l7.78-7.78 2.81-2.81c.8-.78.8-2.07 0-2.86zM5.41 20L4 18.59l7.72-7.72 1.47 1.35L5.41 20z\"/>\n",
              "  </svg>\n",
              "      </button>\n",
              "      \n",
              "  <style>\n",
              "    .colab-df-container {\n",
              "      display:flex;\n",
              "      flex-wrap:wrap;\n",
              "      gap: 12px;\n",
              "    }\n",
              "\n",
              "    .colab-df-convert {\n",
              "      background-color: #E8F0FE;\n",
              "      border: none;\n",
              "      border-radius: 50%;\n",
              "      cursor: pointer;\n",
              "      display: none;\n",
              "      fill: #1967D2;\n",
              "      height: 32px;\n",
              "      padding: 0 0 0 0;\n",
              "      width: 32px;\n",
              "    }\n",
              "\n",
              "    .colab-df-convert:hover {\n",
              "      background-color: #E2EBFA;\n",
              "      box-shadow: 0px 1px 2px rgba(60, 64, 67, 0.3), 0px 1px 3px 1px rgba(60, 64, 67, 0.15);\n",
              "      fill: #174EA6;\n",
              "    }\n",
              "\n",
              "    [theme=dark] .colab-df-convert {\n",
              "      background-color: #3B4455;\n",
              "      fill: #D2E3FC;\n",
              "    }\n",
              "\n",
              "    [theme=dark] .colab-df-convert:hover {\n",
              "      background-color: #434B5C;\n",
              "      box-shadow: 0px 1px 3px 1px rgba(0, 0, 0, 0.15);\n",
              "      filter: drop-shadow(0px 1px 2px rgba(0, 0, 0, 0.3));\n",
              "      fill: #FFFFFF;\n",
              "    }\n",
              "  </style>\n",
              "\n",
              "      <script>\n",
              "        const buttonEl =\n",
              "          document.querySelector('#df-91f778d7-6925-46f6-8b33-a5d25f5cecca button.colab-df-convert');\n",
              "        buttonEl.style.display =\n",
              "          google.colab.kernel.accessAllowed ? 'block' : 'none';\n",
              "\n",
              "        async function convertToInteractive(key) {\n",
              "          const element = document.querySelector('#df-91f778d7-6925-46f6-8b33-a5d25f5cecca');\n",
              "          const dataTable =\n",
              "            await google.colab.kernel.invokeFunction('convertToInteractive',\n",
              "                                                     [key], {});\n",
              "          if (!dataTable) return;\n",
              "\n",
              "          const docLinkHtml = 'Like what you see? Visit the ' +\n",
              "            '<a target=\"_blank\" href=https://colab.research.google.com/notebooks/data_table.ipynb>data table notebook</a>'\n",
              "            + ' to learn more about interactive tables.';\n",
              "          element.innerHTML = '';\n",
              "          dataTable['output_type'] = 'display_data';\n",
              "          await google.colab.output.renderOutput(dataTable, element);\n",
              "          const docLink = document.createElement('div');\n",
              "          docLink.innerHTML = docLinkHtml;\n",
              "          element.appendChild(docLink);\n",
              "        }\n",
              "      </script>\n",
              "    </div>\n",
              "  </div>\n",
              "  "
            ],
            "text/plain": [
              "          0         1         2  ...        15       16  CUST_ID\n",
              "0 -0.731989 -0.249434 -0.424900  ... -0.525551  0.36068   C10001\n",
              "1  0.786961  0.134325 -0.469552  ...  0.234227  0.36068   C10002\n",
              "2  0.447135  0.518084 -0.107668  ... -0.525551  0.36068   C10003\n",
              "3  0.049099 -1.016953  0.232058  ... -0.525551  0.36068   C10004\n",
              "4 -0.358775  0.518084 -0.462063  ... -0.525551  0.36068   C10005\n",
              "\n",
              "[5 rows x 18 columns]"
            ]
          },
          "metadata": {},
          "execution_count": 159
        }
      ]
    },
    {
      "cell_type": "code",
      "source": [
        "z_score_new.info()"
      ],
      "metadata": {
        "colab": {
          "base_uri": "https://localhost:8080/"
        },
        "id": "VaFguC3SUBZh",
        "outputId": "94cabfb5-357e-488e-d449-8c416539887f"
      },
      "execution_count": null,
      "outputs": [
        {
          "output_type": "stream",
          "name": "stdout",
          "text": [
            "<class 'pandas.core.frame.DataFrame'>\n",
            "Int64Index: 7464 entries, 0 to 8880\n",
            "Data columns (total 18 columns):\n",
            " #   Column   Non-Null Count  Dtype  \n",
            "---  ------   --------------  -----  \n",
            " 0   0        7464 non-null   float64\n",
            " 1   1        7464 non-null   float64\n",
            " 2   2        7464 non-null   float64\n",
            " 3   3        7464 non-null   float64\n",
            " 4   4        7464 non-null   float64\n",
            " 5   5        7464 non-null   float64\n",
            " 6   6        7464 non-null   float64\n",
            " 7   7        7464 non-null   float64\n",
            " 8   8        7464 non-null   float64\n",
            " 9   9        7464 non-null   float64\n",
            " 10  10       7464 non-null   float64\n",
            " 11  11       7464 non-null   float64\n",
            " 12  12       7464 non-null   float64\n",
            " 13  13       7464 non-null   float64\n",
            " 14  14       7464 non-null   float64\n",
            " 15  15       7464 non-null   float64\n",
            " 16  16       7464 non-null   float64\n",
            " 17  CUST_ID  7464 non-null   object \n",
            "dtypes: float64(17), object(1)\n",
            "memory usage: 1.1+ MB\n"
          ]
        }
      ]
    },
    {
      "cell_type": "markdown",
      "source": [
        "#### Dealing with correlated variables in our dataset"
      ],
      "metadata": {
        "id": "WlRyb3PmUsD1"
      }
    },
    {
      "cell_type": "code",
      "source": [
        "#Checking correlation in variables"
      ],
      "metadata": {
        "id": "PKwxxPG2Q0Tc"
      },
      "execution_count": null,
      "outputs": []
    },
    {
      "cell_type": "code",
      "source": [
        "z_score_new.corr()"
      ],
      "metadata": {
        "colab": {
          "base_uri": "https://localhost:8080/",
          "height": 646
        },
        "id": "mESeEuliUQzQ",
        "outputId": "69f56221-2cd1-4caf-eb99-1af9825f37d1"
      },
      "execution_count": null,
      "outputs": [
        {
          "output_type": "execute_result",
          "data": {
            "text/html": [
              "\n",
              "  <div id=\"df-9506bffb-cf76-410b-96df-86a32c2edee0\">\n",
              "    <div class=\"colab-df-container\">\n",
              "      <div>\n",
              "<style scoped>\n",
              "    .dataframe tbody tr th:only-of-type {\n",
              "        vertical-align: middle;\n",
              "    }\n",
              "\n",
              "    .dataframe tbody tr th {\n",
              "        vertical-align: top;\n",
              "    }\n",
              "\n",
              "    .dataframe thead th {\n",
              "        text-align: right;\n",
              "    }\n",
              "</style>\n",
              "<table border=\"1\" class=\"dataframe\">\n",
              "  <thead>\n",
              "    <tr style=\"text-align: right;\">\n",
              "      <th></th>\n",
              "      <th>0</th>\n",
              "      <th>1</th>\n",
              "      <th>2</th>\n",
              "      <th>3</th>\n",
              "      <th>4</th>\n",
              "      <th>5</th>\n",
              "      <th>6</th>\n",
              "      <th>7</th>\n",
              "      <th>8</th>\n",
              "      <th>9</th>\n",
              "      <th>10</th>\n",
              "      <th>11</th>\n",
              "      <th>12</th>\n",
              "      <th>13</th>\n",
              "      <th>14</th>\n",
              "      <th>15</th>\n",
              "      <th>16</th>\n",
              "    </tr>\n",
              "  </thead>\n",
              "  <tbody>\n",
              "    <tr>\n",
              "      <th>0</th>\n",
              "      <td>1.000000</td>\n",
              "      <td>0.348764</td>\n",
              "      <td>0.046510</td>\n",
              "      <td>0.081963</td>\n",
              "      <td>-0.034762</td>\n",
              "      <td>0.507132</td>\n",
              "      <td>-0.143576</td>\n",
              "      <td>0.032355</td>\n",
              "      <td>-0.138198</td>\n",
              "      <td>0.467679</td>\n",
              "      <td>0.437686</td>\n",
              "      <td>0.012804</td>\n",
              "      <td>0.403044</td>\n",
              "      <td>0.215367</td>\n",
              "      <td>0.612009</td>\n",
              "      <td>-0.376361</td>\n",
              "      <td>0.057233</td>\n",
              "    </tr>\n",
              "    <tr>\n",
              "      <th>1</th>\n",
              "      <td>0.348764</td>\n",
              "      <td>1.000000</td>\n",
              "      <td>0.155246</td>\n",
              "      <td>0.115445</td>\n",
              "      <td>0.133816</td>\n",
              "      <td>0.074290</td>\n",
              "      <td>0.230522</td>\n",
              "      <td>0.180189</td>\n",
              "      <td>0.180310</td>\n",
              "      <td>0.184779</td>\n",
              "      <td>0.146579</td>\n",
              "      <td>0.212813</td>\n",
              "      <td>0.062461</td>\n",
              "      <td>0.002101</td>\n",
              "      <td>0.229045</td>\n",
              "      <td>-0.163749</td>\n",
              "      <td>0.102275</td>\n",
              "    </tr>\n",
              "    <tr>\n",
              "      <th>2</th>\n",
              "      <td>0.046510</td>\n",
              "      <td>0.155246</td>\n",
              "      <td>1.000000</td>\n",
              "      <td>0.877063</td>\n",
              "      <td>0.653140</td>\n",
              "      <td>-0.138773</td>\n",
              "      <td>0.555227</td>\n",
              "      <td>0.612767</td>\n",
              "      <td>0.412614</td>\n",
              "      <td>-0.194127</td>\n",
              "      <td>-0.152353</td>\n",
              "      <td>0.746776</td>\n",
              "      <td>0.297278</td>\n",
              "      <td>0.372031</td>\n",
              "      <td>0.040379</td>\n",
              "      <td>0.191296</td>\n",
              "      <td>0.072328</td>\n",
              "    </tr>\n",
              "    <tr>\n",
              "      <th>3</th>\n",
              "      <td>0.081963</td>\n",
              "      <td>0.115445</td>\n",
              "      <td>0.877063</td>\n",
              "      <td>1.000000</td>\n",
              "      <td>0.209167</td>\n",
              "      <td>-0.084740</td>\n",
              "      <td>0.338578</td>\n",
              "      <td>0.692465</td>\n",
              "      <td>0.097280</td>\n",
              "      <td>-0.119322</td>\n",
              "      <td>-0.091244</td>\n",
              "      <td>0.556534</td>\n",
              "      <td>0.284593</td>\n",
              "      <td>0.344538</td>\n",
              "      <td>0.016037</td>\n",
              "      <td>0.099546</td>\n",
              "      <td>0.045383</td>\n",
              "    </tr>\n",
              "    <tr>\n",
              "      <th>4</th>\n",
              "      <td>-0.034762</td>\n",
              "      <td>0.133816</td>\n",
              "      <td>0.653140</td>\n",
              "      <td>0.209167</td>\n",
              "      <td>1.000000</td>\n",
              "      <td>-0.149173</td>\n",
              "      <td>0.596746</td>\n",
              "      <td>0.155819</td>\n",
              "      <td>0.686813</td>\n",
              "      <td>-0.207223</td>\n",
              "      <td>-0.166471</td>\n",
              "      <td>0.643153</td>\n",
              "      <td>0.156485</td>\n",
              "      <td>0.214163</td>\n",
              "      <td>0.056785</td>\n",
              "      <td>0.232293</td>\n",
              "      <td>0.075568</td>\n",
              "    </tr>\n",
              "    <tr>\n",
              "      <th>5</th>\n",
              "      <td>0.507132</td>\n",
              "      <td>0.074290</td>\n",
              "      <td>-0.138773</td>\n",
              "      <td>-0.084740</td>\n",
              "      <td>-0.149173</td>\n",
              "      <td>1.000000</td>\n",
              "      <td>-0.288111</td>\n",
              "      <td>-0.122996</td>\n",
              "      <td>-0.239403</td>\n",
              "      <td>0.667334</td>\n",
              "      <td>0.690454</td>\n",
              "      <td>-0.171079</td>\n",
              "      <td>0.229347</td>\n",
              "      <td>0.349791</td>\n",
              "      <td>0.269991</td>\n",
              "      <td>-0.196917</td>\n",
              "      <td>-0.082796</td>\n",
              "    </tr>\n",
              "    <tr>\n",
              "      <th>6</th>\n",
              "      <td>-0.143576</td>\n",
              "      <td>0.230522</td>\n",
              "      <td>0.555227</td>\n",
              "      <td>0.338578</td>\n",
              "      <td>0.596746</td>\n",
              "      <td>-0.288111</td>\n",
              "      <td>1.000000</td>\n",
              "      <td>0.479829</td>\n",
              "      <td>0.855721</td>\n",
              "      <td>-0.353708</td>\n",
              "      <td>-0.291757</td>\n",
              "      <td>0.725215</td>\n",
              "      <td>0.114934</td>\n",
              "      <td>0.071159</td>\n",
              "      <td>-0.042668</td>\n",
              "      <td>0.304346</td>\n",
              "      <td>0.053168</td>\n",
              "    </tr>\n",
              "    <tr>\n",
              "      <th>7</th>\n",
              "      <td>0.032355</td>\n",
              "      <td>0.180189</td>\n",
              "      <td>0.612767</td>\n",
              "      <td>0.692465</td>\n",
              "      <td>0.155819</td>\n",
              "      <td>-0.122996</td>\n",
              "      <td>0.479829</td>\n",
              "      <td>1.000000</td>\n",
              "      <td>0.081315</td>\n",
              "      <td>-0.138563</td>\n",
              "      <td>-0.114825</td>\n",
              "      <td>0.584436</td>\n",
              "      <td>0.272293</td>\n",
              "      <td>0.203657</td>\n",
              "      <td>-0.025560</td>\n",
              "      <td>0.127104</td>\n",
              "      <td>0.061798</td>\n",
              "    </tr>\n",
              "    <tr>\n",
              "      <th>8</th>\n",
              "      <td>-0.138198</td>\n",
              "      <td>0.180310</td>\n",
              "      <td>0.412614</td>\n",
              "      <td>0.097280</td>\n",
              "      <td>0.686813</td>\n",
              "      <td>-0.239403</td>\n",
              "      <td>0.855721</td>\n",
              "      <td>0.081315</td>\n",
              "      <td>1.000000</td>\n",
              "      <td>-0.295186</td>\n",
              "      <td>-0.243711</td>\n",
              "      <td>0.642888</td>\n",
              "      <td>0.033464</td>\n",
              "      <td>0.039617</td>\n",
              "      <td>-0.021351</td>\n",
              "      <td>0.254086</td>\n",
              "      <td>0.053607</td>\n",
              "    </tr>\n",
              "    <tr>\n",
              "      <th>9</th>\n",
              "      <td>0.467679</td>\n",
              "      <td>0.184779</td>\n",
              "      <td>-0.194127</td>\n",
              "      <td>-0.119322</td>\n",
              "      <td>-0.207223</td>\n",
              "      <td>0.667334</td>\n",
              "      <td>-0.353708</td>\n",
              "      <td>-0.138563</td>\n",
              "      <td>-0.295186</td>\n",
              "      <td>1.000000</td>\n",
              "      <td>0.882944</td>\n",
              "      <td>-0.203342</td>\n",
              "      <td>0.059294</td>\n",
              "      <td>0.154436</td>\n",
              "      <td>0.247985</td>\n",
              "      <td>-0.272057</td>\n",
              "      <td>-0.077734</td>\n",
              "    </tr>\n",
              "    <tr>\n",
              "      <th>10</th>\n",
              "      <td>0.437686</td>\n",
              "      <td>0.146579</td>\n",
              "      <td>-0.152353</td>\n",
              "      <td>-0.091244</td>\n",
              "      <td>-0.166471</td>\n",
              "      <td>0.690454</td>\n",
              "      <td>-0.291757</td>\n",
              "      <td>-0.114825</td>\n",
              "      <td>-0.243711</td>\n",
              "      <td>0.882944</td>\n",
              "      <td>1.000000</td>\n",
              "      <td>-0.159731</td>\n",
              "      <td>0.076657</td>\n",
              "      <td>0.181425</td>\n",
              "      <td>0.265235</td>\n",
              "      <td>-0.229284</td>\n",
              "      <td>-0.045414</td>\n",
              "    </tr>\n",
              "    <tr>\n",
              "      <th>11</th>\n",
              "      <td>0.012804</td>\n",
              "      <td>0.212813</td>\n",
              "      <td>0.746776</td>\n",
              "      <td>0.556534</td>\n",
              "      <td>0.643153</td>\n",
              "      <td>-0.171079</td>\n",
              "      <td>0.725215</td>\n",
              "      <td>0.584436</td>\n",
              "      <td>0.642888</td>\n",
              "      <td>-0.203342</td>\n",
              "      <td>-0.159731</td>\n",
              "      <td>1.000000</td>\n",
              "      <td>0.209379</td>\n",
              "      <td>0.235095</td>\n",
              "      <td>0.038202</td>\n",
              "      <td>0.190284</td>\n",
              "      <td>0.103560</td>\n",
              "    </tr>\n",
              "    <tr>\n",
              "      <th>12</th>\n",
              "      <td>0.403044</td>\n",
              "      <td>0.062461</td>\n",
              "      <td>0.297278</td>\n",
              "      <td>0.284593</td>\n",
              "      <td>0.156485</td>\n",
              "      <td>0.229347</td>\n",
              "      <td>0.114934</td>\n",
              "      <td>0.272293</td>\n",
              "      <td>0.033464</td>\n",
              "      <td>0.059294</td>\n",
              "      <td>0.076657</td>\n",
              "      <td>0.209379</td>\n",
              "      <td>1.000000</td>\n",
              "      <td>0.316639</td>\n",
              "      <td>0.132038</td>\n",
              "      <td>0.062984</td>\n",
              "      <td>0.114266</td>\n",
              "    </tr>\n",
              "    <tr>\n",
              "      <th>13</th>\n",
              "      <td>0.215367</td>\n",
              "      <td>0.002101</td>\n",
              "      <td>0.372031</td>\n",
              "      <td>0.344538</td>\n",
              "      <td>0.214163</td>\n",
              "      <td>0.349791</td>\n",
              "      <td>0.071159</td>\n",
              "      <td>0.203657</td>\n",
              "      <td>0.039617</td>\n",
              "      <td>0.154436</td>\n",
              "      <td>0.181425</td>\n",
              "      <td>0.235095</td>\n",
              "      <td>0.316639</td>\n",
              "      <td>1.000000</td>\n",
              "      <td>0.166418</td>\n",
              "      <td>0.089870</td>\n",
              "      <td>0.086267</td>\n",
              "    </tr>\n",
              "    <tr>\n",
              "      <th>14</th>\n",
              "      <td>0.612009</td>\n",
              "      <td>0.229045</td>\n",
              "      <td>0.040379</td>\n",
              "      <td>0.016037</td>\n",
              "      <td>0.056785</td>\n",
              "      <td>0.269991</td>\n",
              "      <td>-0.042668</td>\n",
              "      <td>-0.025560</td>\n",
              "      <td>-0.021351</td>\n",
              "      <td>0.247985</td>\n",
              "      <td>0.265235</td>\n",
              "      <td>0.038202</td>\n",
              "      <td>0.132038</td>\n",
              "      <td>0.166418</td>\n",
              "      <td>1.000000</td>\n",
              "      <td>-0.260477</td>\n",
              "      <td>0.062403</td>\n",
              "    </tr>\n",
              "    <tr>\n",
              "      <th>15</th>\n",
              "      <td>-0.376361</td>\n",
              "      <td>-0.163749</td>\n",
              "      <td>0.191296</td>\n",
              "      <td>0.099546</td>\n",
              "      <td>0.232293</td>\n",
              "      <td>-0.196917</td>\n",
              "      <td>0.304346</td>\n",
              "      <td>0.127104</td>\n",
              "      <td>0.254086</td>\n",
              "      <td>-0.272057</td>\n",
              "      <td>-0.229284</td>\n",
              "      <td>0.190284</td>\n",
              "      <td>0.062984</td>\n",
              "      <td>0.089870</td>\n",
              "      <td>-0.260477</td>\n",
              "      <td>1.000000</td>\n",
              "      <td>-0.017023</td>\n",
              "    </tr>\n",
              "    <tr>\n",
              "      <th>16</th>\n",
              "      <td>0.057233</td>\n",
              "      <td>0.102275</td>\n",
              "      <td>0.072328</td>\n",
              "      <td>0.045383</td>\n",
              "      <td>0.075568</td>\n",
              "      <td>-0.082796</td>\n",
              "      <td>0.053168</td>\n",
              "      <td>0.061798</td>\n",
              "      <td>0.053607</td>\n",
              "      <td>-0.077734</td>\n",
              "      <td>-0.045414</td>\n",
              "      <td>0.103560</td>\n",
              "      <td>0.114266</td>\n",
              "      <td>0.086267</td>\n",
              "      <td>0.062403</td>\n",
              "      <td>-0.017023</td>\n",
              "      <td>1.000000</td>\n",
              "    </tr>\n",
              "  </tbody>\n",
              "</table>\n",
              "</div>\n",
              "      <button class=\"colab-df-convert\" onclick=\"convertToInteractive('df-9506bffb-cf76-410b-96df-86a32c2edee0')\"\n",
              "              title=\"Convert this dataframe to an interactive table.\"\n",
              "              style=\"display:none;\">\n",
              "        \n",
              "  <svg xmlns=\"http://www.w3.org/2000/svg\" height=\"24px\"viewBox=\"0 0 24 24\"\n",
              "       width=\"24px\">\n",
              "    <path d=\"M0 0h24v24H0V0z\" fill=\"none\"/>\n",
              "    <path d=\"M18.56 5.44l.94 2.06.94-2.06 2.06-.94-2.06-.94-.94-2.06-.94 2.06-2.06.94zm-11 1L8.5 8.5l.94-2.06 2.06-.94-2.06-.94L8.5 2.5l-.94 2.06-2.06.94zm10 10l.94 2.06.94-2.06 2.06-.94-2.06-.94-.94-2.06-.94 2.06-2.06.94z\"/><path d=\"M17.41 7.96l-1.37-1.37c-.4-.4-.92-.59-1.43-.59-.52 0-1.04.2-1.43.59L10.3 9.45l-7.72 7.72c-.78.78-.78 2.05 0 2.83L4 21.41c.39.39.9.59 1.41.59.51 0 1.02-.2 1.41-.59l7.78-7.78 2.81-2.81c.8-.78.8-2.07 0-2.86zM5.41 20L4 18.59l7.72-7.72 1.47 1.35L5.41 20z\"/>\n",
              "  </svg>\n",
              "      </button>\n",
              "      \n",
              "  <style>\n",
              "    .colab-df-container {\n",
              "      display:flex;\n",
              "      flex-wrap:wrap;\n",
              "      gap: 12px;\n",
              "    }\n",
              "\n",
              "    .colab-df-convert {\n",
              "      background-color: #E8F0FE;\n",
              "      border: none;\n",
              "      border-radius: 50%;\n",
              "      cursor: pointer;\n",
              "      display: none;\n",
              "      fill: #1967D2;\n",
              "      height: 32px;\n",
              "      padding: 0 0 0 0;\n",
              "      width: 32px;\n",
              "    }\n",
              "\n",
              "    .colab-df-convert:hover {\n",
              "      background-color: #E2EBFA;\n",
              "      box-shadow: 0px 1px 2px rgba(60, 64, 67, 0.3), 0px 1px 3px 1px rgba(60, 64, 67, 0.15);\n",
              "      fill: #174EA6;\n",
              "    }\n",
              "\n",
              "    [theme=dark] .colab-df-convert {\n",
              "      background-color: #3B4455;\n",
              "      fill: #D2E3FC;\n",
              "    }\n",
              "\n",
              "    [theme=dark] .colab-df-convert:hover {\n",
              "      background-color: #434B5C;\n",
              "      box-shadow: 0px 1px 3px 1px rgba(0, 0, 0, 0.15);\n",
              "      filter: drop-shadow(0px 1px 2px rgba(0, 0, 0, 0.3));\n",
              "      fill: #FFFFFF;\n",
              "    }\n",
              "  </style>\n",
              "\n",
              "      <script>\n",
              "        const buttonEl =\n",
              "          document.querySelector('#df-9506bffb-cf76-410b-96df-86a32c2edee0 button.colab-df-convert');\n",
              "        buttonEl.style.display =\n",
              "          google.colab.kernel.accessAllowed ? 'block' : 'none';\n",
              "\n",
              "        async function convertToInteractive(key) {\n",
              "          const element = document.querySelector('#df-9506bffb-cf76-410b-96df-86a32c2edee0');\n",
              "          const dataTable =\n",
              "            await google.colab.kernel.invokeFunction('convertToInteractive',\n",
              "                                                     [key], {});\n",
              "          if (!dataTable) return;\n",
              "\n",
              "          const docLinkHtml = 'Like what you see? Visit the ' +\n",
              "            '<a target=\"_blank\" href=https://colab.research.google.com/notebooks/data_table.ipynb>data table notebook</a>'\n",
              "            + ' to learn more about interactive tables.';\n",
              "          element.innerHTML = '';\n",
              "          dataTable['output_type'] = 'display_data';\n",
              "          await google.colab.output.renderOutput(dataTable, element);\n",
              "          const docLink = document.createElement('div');\n",
              "          docLink.innerHTML = docLinkHtml;\n",
              "          element.appendChild(docLink);\n",
              "        }\n",
              "      </script>\n",
              "    </div>\n",
              "  </div>\n",
              "  "
            ],
            "text/plain": [
              "          0         1         2   ...        14        15        16\n",
              "0   1.000000  0.348764  0.046510  ...  0.612009 -0.376361  0.057233\n",
              "1   0.348764  1.000000  0.155246  ...  0.229045 -0.163749  0.102275\n",
              "2   0.046510  0.155246  1.000000  ...  0.040379  0.191296  0.072328\n",
              "3   0.081963  0.115445  0.877063  ...  0.016037  0.099546  0.045383\n",
              "4  -0.034762  0.133816  0.653140  ...  0.056785  0.232293  0.075568\n",
              "5   0.507132  0.074290 -0.138773  ...  0.269991 -0.196917 -0.082796\n",
              "6  -0.143576  0.230522  0.555227  ... -0.042668  0.304346  0.053168\n",
              "7   0.032355  0.180189  0.612767  ... -0.025560  0.127104  0.061798\n",
              "8  -0.138198  0.180310  0.412614  ... -0.021351  0.254086  0.053607\n",
              "9   0.467679  0.184779 -0.194127  ...  0.247985 -0.272057 -0.077734\n",
              "10  0.437686  0.146579 -0.152353  ...  0.265235 -0.229284 -0.045414\n",
              "11  0.012804  0.212813  0.746776  ...  0.038202  0.190284  0.103560\n",
              "12  0.403044  0.062461  0.297278  ...  0.132038  0.062984  0.114266\n",
              "13  0.215367  0.002101  0.372031  ...  0.166418  0.089870  0.086267\n",
              "14  0.612009  0.229045  0.040379  ...  1.000000 -0.260477  0.062403\n",
              "15 -0.376361 -0.163749  0.191296  ... -0.260477  1.000000 -0.017023\n",
              "16  0.057233  0.102275  0.072328  ...  0.062403 -0.017023  1.000000\n",
              "\n",
              "[17 rows x 17 columns]"
            ]
          },
          "metadata": {},
          "execution_count": 97
        }
      ]
    },
    {
      "cell_type": "code",
      "source": [
        "sns.heatmap(z_score_new.corr())"
      ],
      "metadata": {
        "colab": {
          "base_uri": "https://localhost:8080/",
          "height": 286
        },
        "id": "eVTLjmx6UYVf",
        "outputId": "16d7c66c-c08b-48aa-acc7-63e95942ac42"
      },
      "execution_count": null,
      "outputs": [
        {
          "output_type": "execute_result",
          "data": {
            "text/plain": [
              "<matplotlib.axes._subplots.AxesSubplot at 0x7f9fa5c21610>"
            ]
          },
          "metadata": {},
          "execution_count": 98
        },
        {
          "output_type": "display_data",
          "data": {
            "image/png": "[encoded data removed]",
            "text/plain": [
              "<Figure size 432x288 with 2 Axes>"
            ]
          },
          "metadata": {
            "needs_background": "light"
          }
        }
      ]
    },
    {
      "cell_type": "code",
      "source": [
        "#better to do dimensionality reduction to get rid of correlated variables"
      ],
      "metadata": {
        "id": "OaV4VGpcUgdU"
      },
      "execution_count": null,
      "outputs": []
    },
    {
      "cell_type": "markdown",
      "source": [
        "## Dimensionality reduction with PCA"
      ],
      "metadata": {
        "id": "aT9viShCU6uM"
      }
    },
    {
      "cell_type": "code",
      "source": [
        "from sklearn.decomposition import PCA"
      ],
      "metadata": {
        "id": "9PzDh9IUU-Am"
      },
      "execution_count": null,
      "outputs": []
    },
    {
      "cell_type": "code",
      "source": [
        "pc=PCA(n_components=10)"
      ],
      "metadata": {
        "id": "Z6Ebmx9vVSOe"
      },
      "execution_count": null,
      "outputs": []
    },
    {
      "cell_type": "code",
      "source": [
        "x_train=pc.fit_transform(z_score_new.drop(\"CUST_ID\",axis=1))"
      ],
      "metadata": {
        "id": "IvD8ch70VbZ1"
      },
      "execution_count": null,
      "outputs": []
    },
    {
      "cell_type": "code",
      "source": [
        "Explained_variance=pc.explained_variance_ratio_"
      ],
      "metadata": {
        "id": "Msn2rFNaVtpH"
      },
      "execution_count": null,
      "outputs": []
    },
    {
      "cell_type": "code",
      "source": [
        "Explained_variance_percentage=np.sum(Explained_variance)*100\n",
        "print(Explained_variance_percentage)"
      ],
      "metadata": {
        "colab": {
          "base_uri": "https://localhost:8080/"
        },
        "id": "OjZek6ONVy4v",
        "outputId": "52b6914d-f4ae-4924-8126-fdd9786a867a"
      },
      "execution_count": null,
      "outputs": [
        {
          "output_type": "stream",
          "name": "stdout",
          "text": [
            "95.22826836602263\n"
          ]
        }
      ]
    },
    {
      "cell_type": "code",
      "source": [
        "#With principal components of 10 we can explain 95% of the variance"
      ],
      "metadata": {
        "id": "KaDnowFlWXRk"
      },
      "execution_count": null,
      "outputs": []
    },
    {
      "cell_type": "code",
      "source": [
        "x_train=pd.DataFrame(x_train).drop(\"CUST_ID\",axis=1)"
      ],
      "metadata": {
        "id": "ccxinR9OY9r-"
      },
      "execution_count": null,
      "outputs": []
    },
    {
      "cell_type": "markdown",
      "source": [
        "## K Means Clustering"
      ],
      "metadata": {
        "id": "7hCw4f0bb4f-"
      }
    },
    {
      "cell_type": "code",
      "source": [
        "from sklearn.cluster import KMeans"
      ],
      "metadata": {
        "id": "lFClUJevZqS1"
      },
      "execution_count": null,
      "outputs": []
    },
    {
      "cell_type": "code",
      "source": [
        "# To decide optimal value of K, elbow plot of Within Cluster Sum of \n",
        "# Squared Errors(wss) is plotted and choose elbow point from where wss\n",
        "# starts to reduce. Elbow point will be K value\n",
        "wcss=[]\n",
        "for i in range(1,15):\n",
        "    km=KMeans(n_clusters=i)\n",
        "    km.fit(x_train)\n",
        "    wcss.append(km.inertia_)"
      ],
      "metadata": {
        "id": "OU-jOwUwczp-"
      },
      "execution_count": null,
      "outputs": []
    },
    {
      "cell_type": "code",
      "source": [
        "plt.figure(figsize=(12,6))\n",
        "plt.plot(range(1,15),wcss,linewidth=2,color='red',marker='8')\n",
        "plt.xlabel('K')\n",
        "plt.ylabel('wcss')\n",
        "plt.show()"
      ],
      "metadata": {
        "colab": {
          "base_uri": "https://localhost:8080/",
          "height": 388
        },
        "id": "fLAiE9kKdCSM",
        "outputId": "06ed2084-ca98-427f-d93f-fcf16c6dcde9"
      },
      "execution_count": null,
      "outputs": [
        {
          "output_type": "display_data",
          "data": {
            "image/png": "[encoded data removed]",
            "text/plain": [
              "<Figure size 864x432 with 1 Axes>"
            ]
          },
          "metadata": {
            "needs_background": "light"
          }
        }
      ]
    },
    {
      "cell_type": "code",
      "source": [
        "km=KMeans(n_clusters=6)"
      ],
      "metadata": {
        "id": "BFWYWYIddCbi"
      },
      "execution_count": null,
      "outputs": []
    },
    {
      "cell_type": "code",
      "source": [
        "km.fit(x_train)"
      ],
      "metadata": {
        "colab": {
          "base_uri": "https://localhost:8080/"
        },
        "id": "5ACV0dUid3cn",
        "outputId": "11e383bf-daa0-448a-a99b-2064d3f00bca"
      },
      "execution_count": null,
      "outputs": [
        {
          "output_type": "execute_result",
          "data": {
            "text/plain": [
              "KMeans(n_clusters=6)"
            ]
          },
          "metadata": {},
          "execution_count": 210
        }
      ]
    },
    {
      "cell_type": "code",
      "source": [
        "x_train[\"labels\"]=km.labels_"
      ],
      "metadata": {
        "id": "zK6qiojBd-_H"
      },
      "execution_count": null,
      "outputs": []
    },
    {
      "cell_type": "code",
      "source": [
        "sns.scatterplot(x=x_train.iloc[:,0],y=x_train.iloc[:,1],\n",
        "               hue='labels',\n",
        "               palette=['green','yellow','red','blue','orange','black'],\n",
        "               data=x_train,s=100)"
      ],
      "metadata": {
        "colab": {
          "base_uri": "https://localhost:8080/",
          "height": 296
        },
        "id": "1lMNb8QWeJ7u",
        "outputId": "c51c0044-1182-4f8d-b0d1-00bb2fd28667"
      },
      "execution_count": null,
      "outputs": [
        {
          "output_type": "execute_result",
          "data": {
            "text/plain": [
              "<matplotlib.axes._subplots.AxesSubplot at 0x7f9f962dbdd0>"
            ]
          },
          "metadata": {},
          "execution_count": 213
        },
        {
          "output_type": "display_data",
          "data": {
            "image/png": "[encoded data removed]",
            "text/plain": [
              "<Figure size 432x288 with 1 Axes>"
            ]
          },
          "metadata": {
            "needs_background": "light"
          }
        }
      ]
    },
    {
      "cell_type": "markdown",
      "source": [
        "### Plotting Countplot for representing number of observations in each cluster"
      ],
      "metadata": {
        "id": "tlioxPcQflKa"
      }
    },
    {
      "cell_type": "code",
      "source": [
        "sns.countplot(x_train.labels);"
      ],
      "metadata": {
        "colab": {
          "base_uri": "https://localhost:8080/",
          "height": 334
        },
        "id": "OEWHBQ0WfBhh",
        "outputId": "eb0f8295-d091-4235-ab46-b592b877a79b"
      },
      "execution_count": null,
      "outputs": [
        {
          "output_type": "stream",
          "name": "stderr",
          "text": [
            "/usr/local/lib/python3.7/dist-packages/seaborn/_decorators.py:43: FutureWarning: Pass the following variable as a keyword arg: x. From version 0.12, the only valid positional argument will be `data`, and passing other arguments without an explicit keyword will result in an error or misinterpretation.\n",
            "  FutureWarning\n"
          ]
        },
        {
          "output_type": "display_data",
          "data": {
            "image/png": "[encoded data removed]",
            "text/plain": [
              "<Figure size 432x288 with 1 Axes>"
            ]
          },
          "metadata": {
            "needs_background": "light"
          }
        }
      ]
    },
    {
      "cell_type": "code",
      "source": [
        "from sklearn.metrics import silhouette_score"
      ],
      "metadata": {
        "id": "J7ToSMiwkLnx"
      },
      "execution_count": null,
      "outputs": []
    },
    {
      "cell_type": "code",
      "source": [
        "print(silhouette_score(x_train.drop(\"labels\",axis=1),x_train.labels))"
      ],
      "metadata": {
        "colab": {
          "base_uri": "https://localhost:8080/"
        },
        "id": "vrCVBmp8kU_E",
        "outputId": "93940836-1ac7-482b-fe9c-e29ccbfb3016"
      },
      "execution_count": null,
      "outputs": [
        {
          "output_type": "stream",
          "name": "stdout",
          "text": [
            "0.24175990444098602\n"
          ]
        }
      ]
    },
    {
      "cell_type": "markdown",
      "source": [
        "## Task-2\n",
        "### Sentiment Analysis with Deep Learning LSTM Model"
      ],
      "metadata": {
        "id": "zmArgx2shKad"
      }
    },
    {
      "cell_type": "markdown",
      "source": [
        "### Problem statement\n",
        "The data ‘sentiment.csv’ contains all information about the tweet, but for \n",
        "this exercise, use the text and sentiment(only positive and negative \n",
        "sentiments) columns"
      ],
      "metadata": {
        "id": "8U0oAR5TLvry"
      }
    },
    {
      "cell_type": "code",
      "source": [
        "dftrain=pd.read_csv(\"/content/drive/MyDrive/Sentiment.csv\")"
      ],
      "metadata": {
        "id": "Y8T22kSsf05V"
      },
      "execution_count": null,
      "outputs": []
    },
    {
      "cell_type": "code",
      "source": [
        "dftrain.head()"
      ],
      "metadata": {
        "colab": {
          "base_uri": "https://localhost:8080/",
          "height": 461
        },
        "id": "OIn9XdWyhGSR",
        "outputId": "e81be44a-a54c-4619-e915-43af28753bb7"
      },
      "execution_count": null,
      "outputs": [
        {
          "output_type": "execute_result",
          "data": {
            "text/html": [
              "\n",
              "  <div id=\"df-d44d3424-8d0e-4d93-b8d3-49b6b7e7ee26\">\n",
              "    <div class=\"colab-df-container\">\n",
              "      <div>\n",
              "<style scoped>\n",
              "    .dataframe tbody tr th:only-of-type {\n",
              "        vertical-align: middle;\n",
              "    }\n",
              "\n",
              "    .dataframe tbody tr th {\n",
              "        vertical-align: top;\n",
              "    }\n",
              "\n",
              "    .dataframe thead th {\n",
              "        text-align: right;\n",
              "    }\n",
              "</style>\n",
              "<table border=\"1\" class=\"dataframe\">\n",
              "  <thead>\n",
              "    <tr style=\"text-align: right;\">\n",
              "      <th></th>\n",
              "      <th>id</th>\n",
              "      <th>candidate</th>\n",
              "      <th>candidate_confidence</th>\n",
              "      <th>relevant_yn</th>\n",
              "      <th>relevant_yn_confidence</th>\n",
              "      <th>sentiment</th>\n",
              "      <th>sentiment_confidence</th>\n",
              "      <th>subject_matter</th>\n",
              "      <th>subject_matter_confidence</th>\n",
              "      <th>candidate_gold</th>\n",
              "      <th>name</th>\n",
              "      <th>relevant_yn_gold</th>\n",
              "      <th>retweet_count</th>\n",
              "      <th>sentiment_gold</th>\n",
              "      <th>subject_matter_gold</th>\n",
              "      <th>text</th>\n",
              "      <th>tweet_coord</th>\n",
              "      <th>tweet_created</th>\n",
              "      <th>tweet_id</th>\n",
              "      <th>tweet_location</th>\n",
              "      <th>user_timezone</th>\n",
              "    </tr>\n",
              "  </thead>\n",
              "  <tbody>\n",
              "    <tr>\n",
              "      <th>0</th>\n",
              "      <td>1</td>\n",
              "      <td>No candidate mentioned</td>\n",
              "      <td>1.0</td>\n",
              "      <td>yes</td>\n",
              "      <td>1.0</td>\n",
              "      <td>Neutral</td>\n",
              "      <td>0.6578</td>\n",
              "      <td>None of the above</td>\n",
              "      <td>1.0000</td>\n",
              "      <td>NaN</td>\n",
              "      <td>I_Am_Kenzi</td>\n",
              "      <td>NaN</td>\n",
              "      <td>5</td>\n",
              "      <td>NaN</td>\n",
              "      <td>NaN</td>\n",
              "      <td>RT @NancyLeeGrahn: How did everyone feel about...</td>\n",
              "      <td>NaN</td>\n",
              "      <td>2015-08-07 09:54:46 -0700</td>\n",
              "      <td>629697200650592256</td>\n",
              "      <td>NaN</td>\n",
              "      <td>Quito</td>\n",
              "    </tr>\n",
              "    <tr>\n",
              "      <th>1</th>\n",
              "      <td>2</td>\n",
              "      <td>Scott Walker</td>\n",
              "      <td>1.0</td>\n",
              "      <td>yes</td>\n",
              "      <td>1.0</td>\n",
              "      <td>Positive</td>\n",
              "      <td>0.6333</td>\n",
              "      <td>None of the above</td>\n",
              "      <td>1.0000</td>\n",
              "      <td>NaN</td>\n",
              "      <td>PeacefulQuest</td>\n",
              "      <td>NaN</td>\n",
              "      <td>26</td>\n",
              "      <td>NaN</td>\n",
              "      <td>NaN</td>\n",
              "      <td>RT @ScottWalker: Didn't catch the full #GOPdeb...</td>\n",
              "      <td>NaN</td>\n",
              "      <td>2015-08-07 09:54:46 -0700</td>\n",
              "      <td>629697199560069120</td>\n",
              "      <td>NaN</td>\n",
              "      <td>NaN</td>\n",
              "    </tr>\n",
              "    <tr>\n",
              "      <th>2</th>\n",
              "      <td>3</td>\n",
              "      <td>No candidate mentioned</td>\n",
              "      <td>1.0</td>\n",
              "      <td>yes</td>\n",
              "      <td>1.0</td>\n",
              "      <td>Neutral</td>\n",
              "      <td>0.6629</td>\n",
              "      <td>None of the above</td>\n",
              "      <td>0.6629</td>\n",
              "      <td>NaN</td>\n",
              "      <td>PussssyCroook</td>\n",
              "      <td>NaN</td>\n",
              "      <td>27</td>\n",
              "      <td>NaN</td>\n",
              "      <td>NaN</td>\n",
              "      <td>RT @TJMShow: No mention of Tamir Rice and the ...</td>\n",
              "      <td>NaN</td>\n",
              "      <td>2015-08-07 09:54:46 -0700</td>\n",
              "      <td>629697199312482304</td>\n",
              "      <td>NaN</td>\n",
              "      <td>NaN</td>\n",
              "    </tr>\n",
              "    <tr>\n",
              "      <th>3</th>\n",
              "      <td>4</td>\n",
              "      <td>No candidate mentioned</td>\n",
              "      <td>1.0</td>\n",
              "      <td>yes</td>\n",
              "      <td>1.0</td>\n",
              "      <td>Positive</td>\n",
              "      <td>1.0000</td>\n",
              "      <td>None of the above</td>\n",
              "      <td>0.7039</td>\n",
              "      <td>NaN</td>\n",
              "      <td>MattFromTexas31</td>\n",
              "      <td>NaN</td>\n",
              "      <td>138</td>\n",
              "      <td>NaN</td>\n",
              "      <td>NaN</td>\n",
              "      <td>RT @RobGeorge: That Carly Fiorina is trending ...</td>\n",
              "      <td>NaN</td>\n",
              "      <td>2015-08-07 09:54:45 -0700</td>\n",
              "      <td>629697197118861312</td>\n",
              "      <td>Texas</td>\n",
              "      <td>Central Time (US &amp; Canada)</td>\n",
              "    </tr>\n",
              "    <tr>\n",
              "      <th>4</th>\n",
              "      <td>5</td>\n",
              "      <td>Donald Trump</td>\n",
              "      <td>1.0</td>\n",
              "      <td>yes</td>\n",
              "      <td>1.0</td>\n",
              "      <td>Positive</td>\n",
              "      <td>0.7045</td>\n",
              "      <td>None of the above</td>\n",
              "      <td>1.0000</td>\n",
              "      <td>NaN</td>\n",
              "      <td>sharonDay5</td>\n",
              "      <td>NaN</td>\n",
              "      <td>156</td>\n",
              "      <td>NaN</td>\n",
              "      <td>NaN</td>\n",
              "      <td>RT @DanScavino: #GOPDebate w/ @realDonaldTrump...</td>\n",
              "      <td>NaN</td>\n",
              "      <td>2015-08-07 09:54:45 -0700</td>\n",
              "      <td>629697196967903232</td>\n",
              "      <td>NaN</td>\n",
              "      <td>Arizona</td>\n",
              "    </tr>\n",
              "  </tbody>\n",
              "</table>\n",
              "</div>\n",
              "      <button class=\"colab-df-convert\" onclick=\"convertToInteractive('df-d44d3424-8d0e-4d93-b8d3-49b6b7e7ee26')\"\n",
              "              title=\"Convert this dataframe to an interactive table.\"\n",
              "              style=\"display:none;\">\n",
              "        \n",
              "  <svg xmlns=\"http://www.w3.org/2000/svg\" height=\"24px\"viewBox=\"0 0 24 24\"\n",
              "       width=\"24px\">\n",
              "    <path d=\"M0 0h24v24H0V0z\" fill=\"none\"/>\n",
              "    <path d=\"M18.56 5.44l.94 2.06.94-2.06 2.06-.94-2.06-.94-.94-2.06-.94 2.06-2.06.94zm-11 1L8.5 8.5l.94-2.06 2.06-.94-2.06-.94L8.5 2.5l-.94 2.06-2.06.94zm10 10l.94 2.06.94-2.06 2.06-.94-2.06-.94-.94-2.06-.94 2.06-2.06.94z\"/><path d=\"M17.41 7.96l-1.37-1.37c-.4-.4-.92-.59-1.43-.59-.52 0-1.04.2-1.43.59L10.3 9.45l-7.72 7.72c-.78.78-.78 2.05 0 2.83L4 21.41c.39.39.9.59 1.41.59.51 0 1.02-.2 1.41-.59l7.78-7.78 2.81-2.81c.8-.78.8-2.07 0-2.86zM5.41 20L4 18.59l7.72-7.72 1.47 1.35L5.41 20z\"/>\n",
              "  </svg>\n",
              "      </button>\n",
              "      \n",
              "  <style>\n",
              "    .colab-df-container {\n",
              "      display:flex;\n",
              "      flex-wrap:wrap;\n",
              "      gap: 12px;\n",
              "    }\n",
              "\n",
              "    .colab-df-convert {\n",
              "      background-color: #E8F0FE;\n",
              "      border: none;\n",
              "      border-radius: 50%;\n",
              "      cursor: pointer;\n",
              "      display: none;\n",
              "      fill: #1967D2;\n",
              "      height: 32px;\n",
              "      padding: 0 0 0 0;\n",
              "      width: 32px;\n",
              "    }\n",
              "\n",
              "    .colab-df-convert:hover {\n",
              "      background-color: #E2EBFA;\n",
              "      box-shadow: 0px 1px 2px rgba(60, 64, 67, 0.3), 0px 1px 3px 1px rgba(60, 64, 67, 0.15);\n",
              "      fill: #174EA6;\n",
              "    }\n",
              "\n",
              "    [theme=dark] .colab-df-convert {\n",
              "      background-color: #3B4455;\n",
              "      fill: #D2E3FC;\n",
              "    }\n",
              "\n",
              "    [theme=dark] .colab-df-convert:hover {\n",
              "      background-color: #434B5C;\n",
              "      box-shadow: 0px 1px 3px 1px rgba(0, 0, 0, 0.15);\n",
              "      filter: drop-shadow(0px 1px 2px rgba(0, 0, 0, 0.3));\n",
              "      fill: #FFFFFF;\n",
              "    }\n",
              "  </style>\n",
              "\n",
              "      <script>\n",
              "        const buttonEl =\n",
              "          document.querySelector('#df-d44d3424-8d0e-4d93-b8d3-49b6b7e7ee26 button.colab-df-convert');\n",
              "        buttonEl.style.display =\n",
              "          google.colab.kernel.accessAllowed ? 'block' : 'none';\n",
              "\n",
              "        async function convertToInteractive(key) {\n",
              "          const element = document.querySelector('#df-d44d3424-8d0e-4d93-b8d3-49b6b7e7ee26');\n",
              "          const dataTable =\n",
              "            await google.colab.kernel.invokeFunction('convertToInteractive',\n",
              "                                                     [key], {});\n",
              "          if (!dataTable) return;\n",
              "\n",
              "          const docLinkHtml = 'Like what you see? Visit the ' +\n",
              "            '<a target=\"_blank\" href=https://colab.research.google.com/notebooks/data_table.ipynb>data table notebook</a>'\n",
              "            + ' to learn more about interactive tables.';\n",
              "          element.innerHTML = '';\n",
              "          dataTable['output_type'] = 'display_data';\n",
              "          await google.colab.output.renderOutput(dataTable, element);\n",
              "          const docLink = document.createElement('div');\n",
              "          docLink.innerHTML = docLinkHtml;\n",
              "          element.appendChild(docLink);\n",
              "        }\n",
              "      </script>\n",
              "    </div>\n",
              "  </div>\n",
              "  "
            ],
            "text/plain": [
              "   id               candidate  ...  tweet_location               user_timezone\n",
              "0   1  No candidate mentioned  ...             NaN                       Quito\n",
              "1   2            Scott Walker  ...             NaN                         NaN\n",
              "2   3  No candidate mentioned  ...             NaN                         NaN\n",
              "3   4  No candidate mentioned  ...           Texas  Central Time (US & Canada)\n",
              "4   5            Donald Trump  ...             NaN                     Arizona\n",
              "\n",
              "[5 rows x 21 columns]"
            ]
          },
          "metadata": {},
          "execution_count": 217
        }
      ]
    },
    {
      "cell_type": "code",
      "source": [
        "data=dftrain[[\"text\",\"sentiment\"]]"
      ],
      "metadata": {
        "id": "y57TJKfvhf29"
      },
      "execution_count": null,
      "outputs": []
    },
    {
      "cell_type": "code",
      "source": [
        "data[\"sentiment\"].value_counts()"
      ],
      "metadata": {
        "colab": {
          "base_uri": "https://localhost:8080/"
        },
        "id": "RKEwjAD9jGHw",
        "outputId": "5d61c880-3968-4bc6-976d-8da69a3671dd"
      },
      "execution_count": null,
      "outputs": [
        {
          "output_type": "execute_result",
          "data": {
            "text/plain": [
              "Negative    8493\n",
              "Neutral     3142\n",
              "Positive    2236\n",
              "Name: sentiment, dtype: int64"
            ]
          },
          "metadata": {},
          "execution_count": 233
        }
      ]
    },
    {
      "cell_type": "code",
      "source": [
        "sns.countplot(dftrain.sentiment);"
      ],
      "metadata": {
        "colab": {
          "base_uri": "https://localhost:8080/",
          "height": 334
        },
        "id": "iaC6P1e0jfZG",
        "outputId": "e84a71b5-c8df-4e77-ce52-ce22f68dddf6"
      },
      "execution_count": null,
      "outputs": [
        {
          "output_type": "stream",
          "name": "stderr",
          "text": [
            "/usr/local/lib/python3.7/dist-packages/seaborn/_decorators.py:43: FutureWarning: Pass the following variable as a keyword arg: x. From version 0.12, the only valid positional argument will be `data`, and passing other arguments without an explicit keyword will result in an error or misinterpretation.\n",
            "  FutureWarning\n"
          ]
        },
        {
          "output_type": "display_data",
          "data": {
            "image/png": "[encoded data removed]",
            "text/plain": [
              "<Figure size 432x288 with 1 Axes>"
            ]
          },
          "metadata": {
            "needs_background": "light"
          }
        }
      ]
    },
    {
      "cell_type": "markdown",
      "source": [
        "## Sentiment Analysis with Sequential Lstm model"
      ],
      "metadata": {
        "id": "jX7ez-YBlLno"
      }
    },
    {
      "cell_type": "code",
      "source": [
        "from sklearn.feature_extraction.text import CountVectorizer\n",
        "from keras.preprocessing.text import Tokenizer\n",
        "from keras.preprocessing.sequence import pad_sequences\n",
        "from keras.models import Sequential\n",
        "from keras.layers import Dense, Embedding, LSTM, SpatialDropout1D\n",
        "from sklearn.model_selection import train_test_split\n",
        "from keras.utils.np_utils import to_categorical\n",
        "from sklearn.utils import resample\n",
        "from sklearn.utils import shuffle\n",
        "from sklearn.metrics import confusion_matrix,classification_report\n",
        "import re"
      ],
      "metadata": {
        "id": "7NKIZUV5jidK"
      },
      "execution_count": null,
      "outputs": []
    },
    {
      "cell_type": "code",
      "source": [
        "data = data[data.sentiment != \"Neutral\"]\n",
        "data['text'] = data['text'].apply(lambda x: x.lower())\n",
        "# removing special chars\n",
        "data['text'] = data['text'].apply((lambda x: re.sub('[^a-zA-z0-9\\s]','',x)))\n",
        "#\n",
        "data.head()"
      ],
      "metadata": {
        "colab": {
          "base_uri": "https://localhost:8080/",
          "height": 434
        },
        "id": "J5tkMJQjk5Wj",
        "outputId": "f8d3ff3b-2fc5-419e-8d90-169121c8f29f"
      },
      "execution_count": null,
      "outputs": [
        {
          "output_type": "stream",
          "name": "stderr",
          "text": [
            "/usr/local/lib/python3.7/dist-packages/ipykernel_launcher.py:2: SettingWithCopyWarning: \n",
            "A value is trying to be set on a copy of a slice from a DataFrame.\n",
            "Try using .loc[row_indexer,col_indexer] = value instead\n",
            "\n",
            "See the caveats in the documentation: https://pandas.pydata.org/pandas-docs/stable/user_guide/indexing.html#returning-a-view-versus-a-copy\n",
            "  \n",
            "/usr/local/lib/python3.7/dist-packages/ipykernel_launcher.py:4: SettingWithCopyWarning: \n",
            "A value is trying to be set on a copy of a slice from a DataFrame.\n",
            "Try using .loc[row_indexer,col_indexer] = value instead\n",
            "\n",
            "See the caveats in the documentation: https://pandas.pydata.org/pandas-docs/stable/user_guide/indexing.html#returning-a-view-versus-a-copy\n",
            "  after removing the cwd from sys.path.\n"
          ]
        },
        {
          "output_type": "execute_result",
          "data": {
            "text/html": [
              "\n",
              "  <div id=\"df-868a7030-5695-4317-a163-7bf16013e5c0\">\n",
              "    <div class=\"colab-df-container\">\n",
              "      <div>\n",
              "<style scoped>\n",
              "    .dataframe tbody tr th:only-of-type {\n",
              "        vertical-align: middle;\n",
              "    }\n",
              "\n",
              "    .dataframe tbody tr th {\n",
              "        vertical-align: top;\n",
              "    }\n",
              "\n",
              "    .dataframe thead th {\n",
              "        text-align: right;\n",
              "    }\n",
              "</style>\n",
              "<table border=\"1\" class=\"dataframe\">\n",
              "  <thead>\n",
              "    <tr style=\"text-align: right;\">\n",
              "      <th></th>\n",
              "      <th>text</th>\n",
              "      <th>sentiment</th>\n",
              "    </tr>\n",
              "  </thead>\n",
              "  <tbody>\n",
              "    <tr>\n",
              "      <th>1</th>\n",
              "      <td>rt scottwalker didnt catch the full gopdebate ...</td>\n",
              "      <td>Positive</td>\n",
              "    </tr>\n",
              "    <tr>\n",
              "      <th>3</th>\n",
              "      <td>rt robgeorge that carly fiorina is trending  h...</td>\n",
              "      <td>Positive</td>\n",
              "    </tr>\n",
              "    <tr>\n",
              "      <th>4</th>\n",
              "      <td>rt danscavino gopdebate w realdonaldtrump deli...</td>\n",
              "      <td>Positive</td>\n",
              "    </tr>\n",
              "    <tr>\n",
              "      <th>5</th>\n",
              "      <td>rt gregabbott_tx tedcruz on my first day i wil...</td>\n",
              "      <td>Positive</td>\n",
              "    </tr>\n",
              "    <tr>\n",
              "      <th>6</th>\n",
              "      <td>rt warriorwoman91 i liked her and was happy wh...</td>\n",
              "      <td>Negative</td>\n",
              "    </tr>\n",
              "  </tbody>\n",
              "</table>\n",
              "</div>\n",
              "      <button class=\"colab-df-convert\" onclick=\"convertToInteractive('df-868a7030-5695-4317-a163-7bf16013e5c0')\"\n",
              "              title=\"Convert this dataframe to an interactive table.\"\n",
              "              style=\"display:none;\">\n",
              "        \n",
              "  <svg xmlns=\"http://www.w3.org/2000/svg\" height=\"24px\"viewBox=\"0 0 24 24\"\n",
              "       width=\"24px\">\n",
              "    <path d=\"M0 0h24v24H0V0z\" fill=\"none\"/>\n",
              "    <path d=\"M18.56 5.44l.94 2.06.94-2.06 2.06-.94-2.06-.94-.94-2.06-.94 2.06-2.06.94zm-11 1L8.5 8.5l.94-2.06 2.06-.94-2.06-.94L8.5 2.5l-.94 2.06-2.06.94zm10 10l.94 2.06.94-2.06 2.06-.94-2.06-.94-.94-2.06-.94 2.06-2.06.94z\"/><path d=\"M17.41 7.96l-1.37-1.37c-.4-.4-.92-.59-1.43-.59-.52 0-1.04.2-1.43.59L10.3 9.45l-7.72 7.72c-.78.78-.78 2.05 0 2.83L4 21.41c.39.39.9.59 1.41.59.51 0 1.02-.2 1.41-.59l7.78-7.78 2.81-2.81c.8-.78.8-2.07 0-2.86zM5.41 20L4 18.59l7.72-7.72 1.47 1.35L5.41 20z\"/>\n",
              "  </svg>\n",
              "      </button>\n",
              "      \n",
              "  <style>\n",
              "    .colab-df-container {\n",
              "      display:flex;\n",
              "      flex-wrap:wrap;\n",
              "      gap: 12px;\n",
              "    }\n",
              "\n",
              "    .colab-df-convert {\n",
              "      background-color: #E8F0FE;\n",
              "      border: none;\n",
              "      border-radius: 50%;\n",
              "      cursor: pointer;\n",
              "      display: none;\n",
              "      fill: #1967D2;\n",
              "      height: 32px;\n",
              "      padding: 0 0 0 0;\n",
              "      width: 32px;\n",
              "    }\n",
              "\n",
              "    .colab-df-convert:hover {\n",
              "      background-color: #E2EBFA;\n",
              "      box-shadow: 0px 1px 2px rgba(60, 64, 67, 0.3), 0px 1px 3px 1px rgba(60, 64, 67, 0.15);\n",
              "      fill: #174EA6;\n",
              "    }\n",
              "\n",
              "    [theme=dark] .colab-df-convert {\n",
              "      background-color: #3B4455;\n",
              "      fill: #D2E3FC;\n",
              "    }\n",
              "\n",
              "    [theme=dark] .colab-df-convert:hover {\n",
              "      background-color: #434B5C;\n",
              "      box-shadow: 0px 1px 3px 1px rgba(0, 0, 0, 0.15);\n",
              "      filter: drop-shadow(0px 1px 2px rgba(0, 0, 0, 0.3));\n",
              "      fill: #FFFFFF;\n",
              "    }\n",
              "  </style>\n",
              "\n",
              "      <script>\n",
              "        const buttonEl =\n",
              "          document.querySelector('#df-868a7030-5695-4317-a163-7bf16013e5c0 button.colab-df-convert');\n",
              "        buttonEl.style.display =\n",
              "          google.colab.kernel.accessAllowed ? 'block' : 'none';\n",
              "\n",
              "        async function convertToInteractive(key) {\n",
              "          const element = document.querySelector('#df-868a7030-5695-4317-a163-7bf16013e5c0');\n",
              "          const dataTable =\n",
              "            await google.colab.kernel.invokeFunction('convertToInteractive',\n",
              "                                                     [key], {});\n",
              "          if (!dataTable) return;\n",
              "\n",
              "          const docLinkHtml = 'Like what you see? Visit the ' +\n",
              "            '<a target=\"_blank\" href=https://colab.research.google.com/notebooks/data_table.ipynb>data table notebook</a>'\n",
              "            + ' to learn more about interactive tables.';\n",
              "          element.innerHTML = '';\n",
              "          dataTable['output_type'] = 'display_data';\n",
              "          await google.colab.output.renderOutput(dataTable, element);\n",
              "          const docLink = document.createElement('div');\n",
              "          docLink.innerHTML = docLinkHtml;\n",
              "          element.appendChild(docLink);\n",
              "        }\n",
              "      </script>\n",
              "    </div>\n",
              "  </div>\n",
              "  "
            ],
            "text/plain": [
              "                                                text sentiment\n",
              "1  rt scottwalker didnt catch the full gopdebate ...  Positive\n",
              "3  rt robgeorge that carly fiorina is trending  h...  Positive\n",
              "4  rt danscavino gopdebate w realdonaldtrump deli...  Positive\n",
              "5  rt gregabbott_tx tedcruz on my first day i wil...  Positive\n",
              "6  rt warriorwoman91 i liked her and was happy wh...  Negative"
            ]
          },
          "metadata": {},
          "execution_count": 234
        }
      ]
    },
    {
      "cell_type": "code",
      "source": [
        "print(data[ data['sentiment'] == 'Positive'].size)\n",
        "print(data[ data['sentiment'] == 'Negative'].size)\n",
        "\n",
        "for idx,row in data.iterrows():\n",
        "    row[0] = row[0].replace('rt','')\n",
        "data.head()"
      ],
      "metadata": {
        "colab": {
          "base_uri": "https://localhost:8080/",
          "height": 241
        },
        "id": "o2DEYpjSnOex",
        "outputId": "f5f4817f-ba14-4271-dce2-429ba2f749d1"
      },
      "execution_count": null,
      "outputs": [
        {
          "output_type": "stream",
          "name": "stdout",
          "text": [
            "4472\n",
            "16986\n"
          ]
        },
        {
          "output_type": "execute_result",
          "data": {
            "text/html": [
              "\n",
              "  <div id=\"df-62289a2b-558e-4fff-869c-092f8e813dab\">\n",
              "    <div class=\"colab-df-container\">\n",
              "      <div>\n",
              "<style scoped>\n",
              "    .dataframe tbody tr th:only-of-type {\n",
              "        vertical-align: middle;\n",
              "    }\n",
              "\n",
              "    .dataframe tbody tr th {\n",
              "        vertical-align: top;\n",
              "    }\n",
              "\n",
              "    .dataframe thead th {\n",
              "        text-align: right;\n",
              "    }\n",
              "</style>\n",
              "<table border=\"1\" class=\"dataframe\">\n",
              "  <thead>\n",
              "    <tr style=\"text-align: right;\">\n",
              "      <th></th>\n",
              "      <th>text</th>\n",
              "      <th>sentiment</th>\n",
              "    </tr>\n",
              "  </thead>\n",
              "  <tbody>\n",
              "    <tr>\n",
              "      <th>1</th>\n",
              "      <td>scottwalker didnt catch the full gopdebate la...</td>\n",
              "      <td>Positive</td>\n",
              "    </tr>\n",
              "    <tr>\n",
              "      <th>3</th>\n",
              "      <td>robgeorge that carly fiorina is trending  hou...</td>\n",
              "      <td>Positive</td>\n",
              "    </tr>\n",
              "    <tr>\n",
              "      <th>4</th>\n",
              "      <td>danscavino gopdebate w realdonaldtrump delive...</td>\n",
              "      <td>Positive</td>\n",
              "    </tr>\n",
              "    <tr>\n",
              "      <th>5</th>\n",
              "      <td>gregabbott_tx tedcruz on my first day i will ...</td>\n",
              "      <td>Positive</td>\n",
              "    </tr>\n",
              "    <tr>\n",
              "      <th>6</th>\n",
              "      <td>warriorwoman91 i liked her and was happy when...</td>\n",
              "      <td>Negative</td>\n",
              "    </tr>\n",
              "  </tbody>\n",
              "</table>\n",
              "</div>\n",
              "      <button class=\"colab-df-convert\" onclick=\"convertToInteractive('df-62289a2b-558e-4fff-869c-092f8e813dab')\"\n",
              "              title=\"Convert this dataframe to an interactive table.\"\n",
              "              style=\"display:none;\">\n",
              "        \n",
              "  <svg xmlns=\"http://www.w3.org/2000/svg\" height=\"24px\"viewBox=\"0 0 24 24\"\n",
              "       width=\"24px\">\n",
              "    <path d=\"M0 0h24v24H0V0z\" fill=\"none\"/>\n",
              "    <path d=\"M18.56 5.44l.94 2.06.94-2.06 2.06-.94-2.06-.94-.94-2.06-.94 2.06-2.06.94zm-11 1L8.5 8.5l.94-2.06 2.06-.94-2.06-.94L8.5 2.5l-.94 2.06-2.06.94zm10 10l.94 2.06.94-2.06 2.06-.94-2.06-.94-.94-2.06-.94 2.06-2.06.94z\"/><path d=\"M17.41 7.96l-1.37-1.37c-.4-.4-.92-.59-1.43-.59-.52 0-1.04.2-1.43.59L10.3 9.45l-7.72 7.72c-.78.78-.78 2.05 0 2.83L4 21.41c.39.39.9.59 1.41.59.51 0 1.02-.2 1.41-.59l7.78-7.78 2.81-2.81c.8-.78.8-2.07 0-2.86zM5.41 20L4 18.59l7.72-7.72 1.47 1.35L5.41 20z\"/>\n",
              "  </svg>\n",
              "      </button>\n",
              "      \n",
              "  <style>\n",
              "    .colab-df-container {\n",
              "      display:flex;\n",
              "      flex-wrap:wrap;\n",
              "      gap: 12px;\n",
              "    }\n",
              "\n",
              "    .colab-df-convert {\n",
              "      background-color: #E8F0FE;\n",
              "      border: none;\n",
              "      border-radius: 50%;\n",
              "      cursor: pointer;\n",
              "      display: none;\n",
              "      fill: #1967D2;\n",
              "      height: 32px;\n",
              "      padding: 0 0 0 0;\n",
              "      width: 32px;\n",
              "    }\n",
              "\n",
              "    .colab-df-convert:hover {\n",
              "      background-color: #E2EBFA;\n",
              "      box-shadow: 0px 1px 2px rgba(60, 64, 67, 0.3), 0px 1px 3px 1px rgba(60, 64, 67, 0.15);\n",
              "      fill: #174EA6;\n",
              "    }\n",
              "\n",
              "    [theme=dark] .colab-df-convert {\n",
              "      background-color: #3B4455;\n",
              "      fill: #D2E3FC;\n",
              "    }\n",
              "\n",
              "    [theme=dark] .colab-df-convert:hover {\n",
              "      background-color: #434B5C;\n",
              "      box-shadow: 0px 1px 3px 1px rgba(0, 0, 0, 0.15);\n",
              "      filter: drop-shadow(0px 1px 2px rgba(0, 0, 0, 0.3));\n",
              "      fill: #FFFFFF;\n",
              "    }\n",
              "  </style>\n",
              "\n",
              "      <script>\n",
              "        const buttonEl =\n",
              "          document.querySelector('#df-62289a2b-558e-4fff-869c-092f8e813dab button.colab-df-convert');\n",
              "        buttonEl.style.display =\n",
              "          google.colab.kernel.accessAllowed ? 'block' : 'none';\n",
              "\n",
              "        async function convertToInteractive(key) {\n",
              "          const element = document.querySelector('#df-62289a2b-558e-4fff-869c-092f8e813dab');\n",
              "          const dataTable =\n",
              "            await google.colab.kernel.invokeFunction('convertToInteractive',\n",
              "                                                     [key], {});\n",
              "          if (!dataTable) return;\n",
              "\n",
              "          const docLinkHtml = 'Like what you see? Visit the ' +\n",
              "            '<a target=\"_blank\" href=https://colab.research.google.com/notebooks/data_table.ipynb>data table notebook</a>'\n",
              "            + ' to learn more about interactive tables.';\n",
              "          element.innerHTML = '';\n",
              "          dataTable['output_type'] = 'display_data';\n",
              "          await google.colab.output.renderOutput(dataTable, element);\n",
              "          const docLink = document.createElement('div');\n",
              "          docLink.innerHTML = docLinkHtml;\n",
              "          element.appendChild(docLink);\n",
              "        }\n",
              "      </script>\n",
              "    </div>\n",
              "  </div>\n",
              "  "
            ],
            "text/plain": [
              "                                                text sentiment\n",
              "1   scottwalker didnt catch the full gopdebate la...  Positive\n",
              "3   robgeorge that carly fiorina is trending  hou...  Positive\n",
              "4   danscavino gopdebate w realdonaldtrump delive...  Positive\n",
              "5   gregabbott_tx tedcruz on my first day i will ...  Positive\n",
              "6   warriorwoman91 i liked her and was happy when...  Negative"
            ]
          },
          "metadata": {},
          "execution_count": 236
        }
      ]
    },
    {
      "cell_type": "code",
      "source": [
        "max_fatures = 2000\n",
        "tokenizer = Tokenizer(num_words=max_fatures, split=' ')\n",
        "tokenizer.fit_on_texts(data['text'].values)\n",
        "X = tokenizer.texts_to_sequences(data['text'].values)\n",
        "X = pad_sequences(X)\n",
        "X[:2]"
      ],
      "metadata": {
        "colab": {
          "base_uri": "https://localhost:8080/"
        },
        "id": "bMFeccWwneqr",
        "outputId": "06de930d-83f5-49cf-ddda-e4bb57f903a6"
      },
      "execution_count": null,
      "outputs": [
        {
          "output_type": "execute_result",
          "data": {
            "text/plain": [
              "array([[   0,    0,    0,    0,    0,    0,    0,    0,    0,    0,    0,\n",
              "         359,  120,    1,  692,    2,   39,   58,  234,   37,  207,    6,\n",
              "         172, 1745,   12, 1308, 1394,  733],\n",
              "       [   0,    0,    0,    0,    0,    0,    0,    0,    0,    0,    0,\n",
              "          16,  281,  249,    5,  809,  102,  170,   26,  134,    6,    1,\n",
              "         171,   12,    2,  231,  713,   17]], dtype=int32)"
            ]
          },
          "metadata": {},
          "execution_count": 237
        }
      ]
    },
    {
      "cell_type": "markdown",
      "source": [
        "Next, I compose the LSTM Network. Note that embed_dim, lstm_out, batch_size, droupout_x variables are hyperparameters, their values are somehow intuitive, can be and must be played with in order to achieve good results. Please also note that I am using softmax as activation function. The reason is that our Network is using categorical crossentropy, and softmax is just the right activation method for that"
      ],
      "metadata": {
        "id": "d2rU6nGEnsSD"
      }
    },
    {
      "cell_type": "code",
      "source": [
        "embed_dim = 128\n",
        "lstm_out = 196\n",
        "\n",
        "model = Sequential()\n",
        "model.add(Embedding(max_fatures, embed_dim,input_length = X.shape[1]))\n",
        "model.add(SpatialDropout1D(0.4))\n",
        "model.add(LSTM(lstm_out, dropout=0.2, recurrent_dropout=0.2))\n",
        "model.add(Dense(2,activation='softmax'))\n",
        "model.compile(loss = 'categorical_crossentropy', optimizer='adam',metrics = ['accuracy'])\n",
        "print(model.summary())"
      ],
      "metadata": {
        "colab": {
          "base_uri": "https://localhost:8080/"
        },
        "id": "_B64_NFTnlqm",
        "outputId": "8bc98445-8c15-48ff-ec92-99afdfd06fcb"
      },
      "execution_count": null,
      "outputs": [
        {
          "output_type": "stream",
          "name": "stdout",
          "text": [
            "Model: \"sequential\"\n",
            "_________________________________________________________________\n",
            " Layer (type)                Output Shape              Param #   \n",
            "=================================================================\n",
            " embedding (Embedding)       (None, 28, 128)           256000    \n",
            "                                                                 \n",
            " spatial_dropout1d (SpatialD  (None, 28, 128)          0         \n",
            " ropout1D)                                                       \n",
            "                                                                 \n",
            " lstm (LSTM)                 (None, 196)               254800    \n",
            "                                                                 \n",
            " dense (Dense)               (None, 2)                 394       \n",
            "                                                                 \n",
            "=================================================================\n",
            "Total params: 511,194\n",
            "Trainable params: 511,194\n",
            "Non-trainable params: 0\n",
            "_________________________________________________________________\n",
            "None\n"
          ]
        }
      ]
    },
    {
      "cell_type": "code",
      "source": [
        "Y = pd.get_dummies(data['sentiment']).values\n",
        "X_train, X_test, Y_train, Y_test = train_test_split(X,Y, test_size = 0.20, random_state = 42)\n",
        "print(X_train.shape,Y_train.shape)\n",
        "print(X_test.shape,Y_test.shape)"
      ],
      "metadata": {
        "colab": {
          "base_uri": "https://localhost:8080/"
        },
        "id": "xR25MMAZnxlf",
        "outputId": "c862de55-a1cb-47a2-bc18-73b6870b5ae4"
      },
      "execution_count": null,
      "outputs": [
        {
          "output_type": "stream",
          "name": "stdout",
          "text": [
            "(8583, 28) (8583, 2)\n",
            "(2146, 28) (2146, 2)\n"
          ]
        }
      ]
    },
    {
      "cell_type": "markdown",
      "source": [
        "### Train the model"
      ],
      "metadata": {
        "id": "s_ATvN3soBiA"
      }
    },
    {
      "cell_type": "code",
      "source": [
        "batch_size = 128\n",
        "model.fit(X_train, Y_train, epochs = 15, batch_size=batch_size, verbose = 1)"
      ],
      "metadata": {
        "colab": {
          "base_uri": "https://localhost:8080/"
        },
        "id": "Jw0QxoG-n4hH",
        "outputId": "8feb1d1c-2ddc-4e54-ea56-3dbf77858b2c"
      },
      "execution_count": null,
      "outputs": [
        {
          "output_type": "stream",
          "name": "stdout",
          "text": [
            "Epoch 1/15\n",
            "68/68 [==============================] - 25s 371ms/step - loss: 0.1297 - accuracy: 0.9454\n",
            "Epoch 2/15\n",
            "68/68 [==============================] - 25s 369ms/step - loss: 0.1239 - accuracy: 0.9490\n",
            "Epoch 3/15\n",
            "68/68 [==============================] - 25s 374ms/step - loss: 0.1230 - accuracy: 0.9492\n",
            "Epoch 4/15\n",
            "68/68 [==============================] - 25s 372ms/step - loss: 0.1155 - accuracy: 0.9504\n",
            "Epoch 5/15\n",
            "68/68 [==============================] - 26s 380ms/step - loss: 0.1147 - accuracy: 0.9505\n",
            "Epoch 6/15\n",
            "68/68 [==============================] - 26s 378ms/step - loss: 0.1151 - accuracy: 0.9540\n",
            "Epoch 7/15\n",
            "68/68 [==============================] - 26s 380ms/step - loss: 0.1065 - accuracy: 0.9547\n",
            "Epoch 8/15\n",
            "68/68 [==============================] - 26s 376ms/step - loss: 0.0993 - accuracy: 0.9584\n",
            "Epoch 9/15\n",
            "68/68 [==============================] - 25s 374ms/step - loss: 0.1015 - accuracy: 0.9560\n",
            "Epoch 10/15\n",
            "68/68 [==============================] - 25s 371ms/step - loss: 0.0962 - accuracy: 0.9609\n",
            "Epoch 11/15\n",
            "68/68 [==============================] - 25s 371ms/step - loss: 0.0964 - accuracy: 0.9610\n",
            "Epoch 12/15\n",
            "68/68 [==============================] - 26s 376ms/step - loss: 0.0885 - accuracy: 0.9641\n",
            "Epoch 13/15\n",
            "68/68 [==============================] - 26s 377ms/step - loss: 0.0899 - accuracy: 0.9613\n",
            "Epoch 14/15\n",
            "68/68 [==============================] - 25s 374ms/step - loss: 0.0886 - accuracy: 0.9629\n",
            "Epoch 15/15\n",
            "68/68 [==============================] - 25s 371ms/step - loss: 0.0941 - accuracy: 0.9620\n"
          ]
        },
        {
          "output_type": "execute_result",
          "data": {
            "text/plain": [
              "<keras.callbacks.History at 0x7f9f26ee3390>"
            ]
          },
          "metadata": {},
          "execution_count": 258
        }
      ]
    },
    {
      "cell_type": "code",
      "source": [
        "Y_pred = predictions = (model.predict(X_test) > 0.5).astype(\"int32\")"
      ],
      "metadata": {
        "id": "q3eRYKJKn_fC"
      },
      "execution_count": null,
      "outputs": []
    },
    {
      "cell_type": "code",
      "source": [
        "Y_pred"
      ],
      "metadata": {
        "colab": {
          "base_uri": "https://localhost:8080/"
        },
        "id": "e_e78Jngv_Bj",
        "outputId": "f5f2674a-2a86-4ac9-c73e-a781c46d0e77"
      },
      "execution_count": null,
      "outputs": [
        {
          "output_type": "execute_result",
          "data": {
            "text/plain": [
              "array([[1, 0],\n",
              "       [1, 0],\n",
              "       [0, 1],\n",
              "       ...,\n",
              "       [0, 1],\n",
              "       [0, 1],\n",
              "       [1, 0]], dtype=int32)"
            ]
          },
          "metadata": {},
          "execution_count": 268
        }
      ]
    },
    {
      "cell_type": "markdown",
      "source": [
        "## Predicting sentiment for following sentences"
      ],
      "metadata": {
        "id": "bPQ38rxXzVGK"
      }
    },
    {
      "cell_type": "markdown",
      "source": [
        "a. 'He is a great leader.'\\\n",
        "b. 'He is a terrible leader.'"
      ],
      "metadata": {
        "id": "qugMI1LSze0m"
      }
    },
    {
      "cell_type": "code",
      "source": [
        "twt = ['He is a terrible leader.']\n",
        "#vectorizing the tweet by the pre-fitted tokenizer instance\n",
        "twt = tokenizer.texts_to_sequences(twt)\n",
        "#padding the tweet to have exactly the same shape as `embedding_2` input\n",
        "twt = pad_sequences(twt, maxlen=29, dtype='int32', value=0)\n",
        "print(twt)\n",
        "sentiment = model.predict(twt,batch_size=1,verbose = 2)[0]\n",
        "if(np.argmax(sentiment) == 0):\n",
        "    print(\"negative\")\n",
        "elif (np.argmax(sentiment) == 1):\n",
        "    print(\"positive\")"
      ],
      "metadata": {
        "colab": {
          "base_uri": "https://localhost:8080/"
        },
        "id": "8U73w7e9qee1",
        "outputId": "d866c138-5914-4a10-fe33-24c9ecb30595"
      },
      "execution_count": null,
      "outputs": [
        {
          "output_type": "stream",
          "name": "stdout",
          "text": [
            "[[  0   0   0   0   0   0   0   0   0   0   0   0   0   0   0   0   0   0\n",
            "    0   0   0   0   0   0  33   5   7 988 336]]\n",
            "1/1 - 0s - 302ms/epoch - 302ms/step\n",
            "negative\n"
          ]
        }
      ]
    },
    {
      "cell_type": "code",
      "source": [
        "twt = ['He is a great leader.']\n",
        "#vectorizing the tweet by the pre-fitted tokenizer instance\n",
        "twt = tokenizer.texts_to_sequences(twt)\n",
        "#padding the tweet to have exactly the same shape as `embedding_2` input\n",
        "twt = pad_sequences(twt, maxlen=29, dtype='int32', value=0)\n",
        "print(twt)\n",
        "sentiment = model.predict(twt,batch_size=1,verbose = 2)[0]\n",
        "if(np.argmax(sentiment) == 0):\n",
        "    print(\"negative\")\n",
        "elif (np.argmax(sentiment) == 1):\n",
        "    print(\"positive\")"
      ],
      "metadata": {
        "colab": {
          "base_uri": "https://localhost:8080/"
        },
        "id": "Ncu0DLrUvQGt",
        "outputId": "b455b591-cfa3-48ac-d9b0-8a1198aa362c"
      },
      "execution_count": null,
      "outputs": [
        {
          "output_type": "stream",
          "name": "stdout",
          "text": [
            "[[  0   0   0   0   0   0   0   0   0   0   0   0   0   0   0   0   0   0\n",
            "    0   0   0   0   0   0  33   5   7 144 336]]\n",
            "1/1 - 0s - 34ms/epoch - 34ms/step\n",
            "positive\n"
          ]
        }
      ]
    }
  ]
}